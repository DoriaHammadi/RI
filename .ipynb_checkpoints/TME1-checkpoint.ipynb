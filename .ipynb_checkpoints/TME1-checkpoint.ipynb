{
 "cells": [
  {
   "cell_type": "code",
   "execution_count": 18,
   "metadata": {},
   "outputs": [],
   "source": [
    "import Document\n",
    "import porter\n",
    "import TextRepresenter\n",
    "import Parser"
   ]
  },
  {
   "cell_type": "code",
   "execution_count": 19,
   "metadata": {},
   "outputs": [],
   "source": [
    "parser= ParserCACM.ParserCACM()\n",
    "parser.initFile(\"cisi/cisi.txt\")"
   ]
  },
  {
   "cell_type": "code",
   "execution_count": 20,
   "metadata": {},
   "outputs": [
    {
     "name": "stdout",
     "output_type": "stream",
     "text": [
      "('End of file', 2461)\n"
     ]
    }
   ],
   "source": [
    "parser= ParserCACM.ParserCACM()\n",
    "parser.initFile(\"cisi/cisi.txt\")\n",
    "cpt=0\n",
    "while(True):\n",
    "    try:\n",
    "        cpt+=1\n",
    "\n",
    "        parser.nextDocument()\n",
    "    except ValueError :\n",
    "        print(\"End of file\", cpt)\n",
    "        break"
   ]
  },
  {
   "cell_type": "code",
   "execution_count": 83,
   "metadata": {},
   "outputs": [],
   "source": [
    "def index(parser_name,f_name,doc_name):\n",
    "    parser= ParserCACM.ParserCACM()\n",
    "    parser.initFile(parser_name)\n",
    "    f=open(f_name,\"w\")\n",
    "    doc_f=open(doc_name,'w')\n",
    "    doc_d=dict()\n",
    "    cpt_=0\n",
    "    cpt=0\n",
    "    porter=TextRepresenter.PorterStemmer()\n",
    "    \n",
    "    for i in range(2):\n",
    "        try:\n",
    "\n",
    "            doc = parser.nextDocument ()\n",
    "        #    text = doc.getText().split()\n",
    "            idd = doc.getId()\n",
    "\n",
    "            to_w=(str(idd)[:-1]+\":\")\n",
    "            print(porter.getTextRepresentation(doc.getText()).items())\n",
    "            for w in porter.getTextRepresentation(doc.getText()).items():\n",
    "                to_w+=str(w)\n",
    "            f.write(to_w)\n",
    "            f.write(\";\")\n",
    "\n",
    "            doc_d[idd[:-1]]=(cpt,len(to_w)+1)\n",
    "            cpt+=len(to_w)+1\n",
    "        except (ValueError,AttributeError) :\n",
    "            print(\"End of file\")\n",
    "            break   \n",
    "\n",
    "    doc_f.write(str(doc_d.items()))\n",
    "    f.close()\n",
    "    doc_f.close()\n",
    "    \n",
    "    return"
   ]
  },
  {
   "cell_type": "code",
   "execution_count": 85,
   "metadata": {},
   "outputs": [],
   "source": [
    "class index:\n",
    "    def __init__(self, parser_name, Parser = ParserCACM, TextRepresenter = TextRepresenter):\n",
    "        self.name = parser_name\n",
    "        self.Parser = Parser\n",
    "        self.TextRepresenter = TextRepresenter\n",
    "    \n",
    "    \n",
    "    def indextion(self, source):\n",
    "\n",
    "        cpt = 0\n",
    "        parser = ParserCACM.ParserCACM()\n",
    "        parser.initFile(source) \n",
    "        porter = TextRepresenter.TextRepresenter()\n",
    "\n",
    "        index_file = open(self.name + \"_index\", \"w\")\n",
    "        self.docs = dict()\n",
    "\n",
    "        doc = parser.nextDocument()\n",
    "        while (doc != None): \n",
    "\n",
    "            id_ = doc.getId()\n",
    "            to_w = (str(id_)[:-1] + \":\")\n",
    "\n",
    "            for w in porter.getTextRepresentation(doc.getText()).items():\n",
    "                to_w += str(w)\n",
    "\n",
    "            index_file.write(to_w)\n",
    "            index_file.write(\";\")\n",
    "\n",
    "            self.docs[id_[:-1]] = (cpt,len(to_w) + 1)\n",
    "            cpt += len(to_w) + 1\n",
    "            doc = parser.nextDocument()\n",
    "        index_file.close()\n",
    "        return docs\n",
    "\n",
    "\n",
    "        \n",
    "        "
   ]
  },
  {
   "cell_type": "code",
   "execution_count": 86,
   "metadata": {},
   "outputs": [
    {
     "ename": "NotImplementedError",
     "evalue": "",
     "output_type": "error",
     "traceback": [
      "\u001b[0;31m---------------------------------------------------------------------------\u001b[0m",
      "\u001b[0;31mNotImplementedError\u001b[0m                       Traceback (most recent call last)",
      "\u001b[0;32m<ipython-input-86-e7466eff3bf6>\u001b[0m in \u001b[0;36m<module>\u001b[0;34m()\u001b[0m\n\u001b[1;32m      1\u001b[0m \u001b[0mindex\u001b[0m \u001b[0;34m=\u001b[0m \u001b[0mindex\u001b[0m\u001b[0;34m(\u001b[0m\u001b[0;34m\"test\"\u001b[0m\u001b[0;34m)\u001b[0m\u001b[0;34m\u001b[0m\u001b[0m\n\u001b[0;32m----> 2\u001b[0;31m \u001b[0mindex\u001b[0m\u001b[0;34m.\u001b[0m\u001b[0mindextion\u001b[0m\u001b[0;34m(\u001b[0m\u001b[0msource\u001b[0m \u001b[0;34m=\u001b[0m \u001b[0;34m'cisi/cisi.txt'\u001b[0m\u001b[0;34m)\u001b[0m\u001b[0;34m\u001b[0m\u001b[0m\n\u001b[0m",
      "\u001b[0;32m<ipython-input-85-5bc44782c550>\u001b[0m in \u001b[0;36mindextion\u001b[0;34m(self, source)\u001b[0m\n\u001b[1;32m     22\u001b[0m             \u001b[0mto_w\u001b[0m \u001b[0;34m=\u001b[0m \u001b[0;34m(\u001b[0m\u001b[0mstr\u001b[0m\u001b[0;34m(\u001b[0m\u001b[0mid_\u001b[0m\u001b[0;34m)\u001b[0m\u001b[0;34m[\u001b[0m\u001b[0;34m:\u001b[0m\u001b[0;34m-\u001b[0m\u001b[0;36m1\u001b[0m\u001b[0;34m]\u001b[0m \u001b[0;34m+\u001b[0m \u001b[0;34m\":\"\u001b[0m\u001b[0;34m)\u001b[0m\u001b[0;34m\u001b[0m\u001b[0m\n\u001b[1;32m     23\u001b[0m \u001b[0;34m\u001b[0m\u001b[0m\n\u001b[0;32m---> 24\u001b[0;31m             \u001b[0;32mfor\u001b[0m \u001b[0mw\u001b[0m \u001b[0;32min\u001b[0m \u001b[0mporter\u001b[0m\u001b[0;34m.\u001b[0m\u001b[0mgetTextRepresentation\u001b[0m\u001b[0;34m(\u001b[0m\u001b[0mdoc\u001b[0m\u001b[0;34m.\u001b[0m\u001b[0mgetText\u001b[0m\u001b[0;34m(\u001b[0m\u001b[0;34m)\u001b[0m\u001b[0;34m)\u001b[0m\u001b[0;34m.\u001b[0m\u001b[0mitems\u001b[0m\u001b[0;34m(\u001b[0m\u001b[0;34m)\u001b[0m\u001b[0;34m:\u001b[0m\u001b[0;34m\u001b[0m\u001b[0m\n\u001b[0m\u001b[1;32m     25\u001b[0m                 \u001b[0mto_w\u001b[0m \u001b[0;34m+=\u001b[0m \u001b[0mstr\u001b[0m\u001b[0;34m(\u001b[0m\u001b[0mw\u001b[0m\u001b[0;34m)\u001b[0m\u001b[0;34m\u001b[0m\u001b[0m\n\u001b[1;32m     26\u001b[0m \u001b[0;34m\u001b[0m\u001b[0m\n",
      "\u001b[0;32m/users/nfs/Etu0/3673760/RI/RI/TextRepresenter.pyc\u001b[0m in \u001b[0;36mgetTextRepresentation\u001b[0;34m(self, text)\u001b[0m\n\u001b[1;32m     24\u001b[0m \u001b[0;34m\u001b[0m\u001b[0m\n\u001b[1;32m     25\u001b[0m     \u001b[0;32mdef\u001b[0m \u001b[0mgetTextRepresentation\u001b[0m\u001b[0;34m(\u001b[0m\u001b[0mself\u001b[0m\u001b[0;34m,\u001b[0m\u001b[0mtext\u001b[0m\u001b[0;34m)\u001b[0m\u001b[0;34m:\u001b[0m\u001b[0;34m\u001b[0m\u001b[0m\n\u001b[0;32m---> 26\u001b[0;31m         \u001b[0;32mraise\u001b[0m \u001b[0mNotImplementedError\u001b[0m\u001b[0;34m\u001b[0m\u001b[0m\n\u001b[0m\u001b[1;32m     27\u001b[0m \u001b[0;34m\u001b[0m\u001b[0m\n\u001b[1;32m     28\u001b[0m \u001b[0;34m\u001b[0m\u001b[0m\n",
      "\u001b[0;31mNotImplementedError\u001b[0m: "
     ]
    }
   ],
   "source": [
    "index = index(\"test\")\n",
    "index.indextion(source = 'cisi/cisi.txt')"
   ]
  },
  {
   "cell_type": "code",
   "execution_count": null,
   "metadata": {},
   "outputs": [],
   "source": []
  },
  {
   "cell_type": "code",
   "execution_count": null,
   "metadata": {},
   "outputs": [],
   "source": []
  },
  {
   "cell_type": "code",
   "execution_count": 84,
   "metadata": {},
   "outputs": [
    {
     "name": "stdout",
     "output_type": "stream",
     "text": [
      "[('classif', 1), ('continu', 1), ('biographi', 1), ('1876', 1), ('growth', 1), ('publish', 1), ('need', 1), ('librarianship', 1), ('appear', 1), ('spite', 1), ('decim', 2), ('detail', 1), ('long', 1), ('stori', 1), ('futur', 1), ('ddc', 2), ('told', 1), ('life', 1), ('dewei', 3), ('eighteenth', 1), ('briefli', 1), ('comaromi', 1), ('abroad', 1), ('present', 1), ('describ', 1), ('attempt', 1), ('edit', 2), ('18', 1), ('work', 1), ('1971', 1), ('histori', 2), ('provid', 1), ('healthi', 1), ('countri', 1), ('studi', 1), ('spurr', 1)]\n",
      "[('analysi', 1), ('major', 1), ('technolog', 1), ('period', 1), ('restrict', 1), ('transferr', 2), ('unit', 1), ('inform', 7), ('aspect', 1), ('wider', 1), ('proport', 2), ('librari', 4), ('scienc', 1), ('wai', 1), ('person', 2), ('receiv', 1), ('pattern', 1), ('visit', 1), ('current', 1), ('reli', 1), ('doubt', 1), ('handbook', 1), ('take', 1), ('document', 2), ('6300', 1), ('channel', 1), ('kingdom', 1), ('act', 2), ('situat', 1), ('regular', 1), ('user', 2), ('desk', 1), ('report', 1), ('slater', 1), ('technic', 4), ('104', 1), ('account', 1), ('rare', 1), ('organ', 1), ('colleagu', 1), ('collect', 1), ('contact', 1), ('transfer', 2), ('oral', 1)]\n"
     ]
    }
   ],
   "source": [
    "parser= ParserCACM.ParserCACM()\n",
    "parser.initFile(\"cisi/cisi.txt\")\n",
    "index(\"cisi/cisi.txt\", \"reslt/test\",\"reslt/test_doc\")"
   ]
  },
  {
   "cell_type": "code",
   "execution_count": null,
   "metadata": {},
   "outputs": [],
   "source": []
  },
  {
   "cell_type": "code",
   "execution_count": null,
   "metadata": {},
   "outputs": [],
   "source": []
  },
  {
   "cell_type": "code",
   "execution_count": 6,
   "metadata": {},
   "outputs": [
    {
     "data": {
      "text/plain": [
       "\"1:('classif', 1)('continu', 1)('biographi', 1)('1876', 1)('growth', 1)('publish', 1)('need', 1)('lib\""
      ]
     },
     "execution_count": 6,
     "metadata": {},
     "output_type": "execute_result"
    }
   ],
   "source": [
    "test_f=open(\"reslt/test\",\"r\")\n",
    "\n",
    "\n",
    "test_f.read()[:100]"
   ]
  },
  {
   "cell_type": "code",
   "execution_count": 7,
   "metadata": {},
   "outputs": [],
   "source": [
    "def index_inverse(parser_name,f_name,doc_name):\n",
    "    parser= ParserCACM.ParserCACM()\n",
    "    parser.initFile(parser_name)\n",
    "    f=open(f_name,\"w\")\n",
    "    doc_f=open(doc_name,'w')\n",
    "    doc_d=dict()\n",
    "    cpt=0\n",
    "    porter=TextRepresenter.PorterStemmer()\n",
    "    \n",
    "    dico_length=dict()\n",
    "    \n",
    "    for i in range(3):\n",
    "        try:\n",
    "\n",
    "            doc = parser.nextDocument ()\n",
    "            text = doc.getText().split()\n",
    "            idd = doc.getId()\n",
    "\n",
    "            \n",
    "            for w in porter.getTextRepresentation(doc.getText()).items():\n",
    "                if w[0] not in dico_length.keys():\n",
    "                    dico_length[w[0]]=0#len(w[0])+1\n",
    "                dico_length[w[0]]+=len(str((idd.split(\"\\r\")[0],w[1])))\n",
    "                \n",
    "        \n",
    "        except (ValueError,AttributeError) :\n",
    "            print(\"End of file\")\n",
    "            break   \n",
    "    \n",
    "    dico_place=dict()\n",
    "    cpt=0\n",
    "    for w in dico_length.keys():\n",
    "        #dico_place[w]=(cpt+len(w)+1,dico_length[w]+len(w)+1)\n",
    "        dico_place[w]=cpt+len(w)+2\n",
    "        \n",
    "        f.write(\";\"+str(w)+\":\")\n",
    "        f.write(\"0\"*dico_length[w])\n",
    "        cpt+=dico_length[w]+len(w)+2\n",
    "        \n",
    "        \n",
    "    #doc_f.write(str(dico_place.items()))\n",
    "    parser= ParserCACM.ParserCACM()\n",
    "    parser.initFile(parser_name)\n",
    "    \n",
    "    for i in range(3):\n",
    "        try:\n",
    "\n",
    "            doc = parser.nextDocument ()\n",
    "            text = doc.getText().split()\n",
    "            idd = doc.getId()\n",
    "\n",
    "            \n",
    "            for w in porter.getTextRepresentation(doc.getText()).items():\n",
    "                f.seek(dico_place[w[0]],0)\n",
    "                \n",
    "                f.write(str((idd.split(\"\\r\")[0],w[1])))\n",
    "                print(dico_place[w[0]])\n",
    "                dico_place[w[0]]+=len(str((idd.split(\"\\r\")[0],w[1])))\n",
    "        except (ValueError,AttributeError) :\n",
    "            print(\"End of file\")\n",
    "            break   \n",
    "    \n",
    "    \n",
    "    f.close()\n",
    "    \n",
    "    doc_f.close()\n",
    "    return\n",
    "\n"
   ]
  },
  {
   "cell_type": "code",
   "execution_count": 8,
   "metadata": {},
   "outputs": [
    {
     "name": "stdout",
     "output_type": "stream",
     "text": [
      "1292\n",
      "1086\n",
      "1311\n",
      "816\n",
      "410\n",
      "477\n",
      "1325\n",
      "62\n",
      "443\n",
      "77\n",
      "92\n",
      "1436\n",
      "936\n",
      "951\n",
      "121\n",
      "524\n",
      "552\n",
      "1023\n",
      "1580\n",
      "394\n",
      "1618\n",
      "188\n",
      "615\n",
      "1120\n",
      "862\n",
      "1685\n",
      "290\n",
      "1181\n",
      "1195\n",
      "1699\n",
      "1212\n",
      "1169\n",
      "706\n",
      "723\n",
      "738\n",
      "1243\n",
      "1009\n",
      "770\n",
      "676\n",
      "802\n",
      "253\n",
      "1668\n",
      "845\n",
      "1715\n",
      "39\n",
      "831\n",
      "1342\n",
      "427\n",
      "1358\n",
      "875\n",
      "1404\n",
      "1420\n",
      "460\n",
      "908\n",
      "494\n",
      "922\n",
      "974\n",
      "992\n",
      "1484\n",
      "1502\n",
      "538\n",
      "1534\n",
      "138\n",
      "689\n",
      "583\n",
      "1635\n",
      "1649\n",
      "202\n",
      "218\n",
      "599\n",
      "1103\n",
      "628\n",
      "1137\n",
      "657\n",
      "268\n",
      "308\n",
      "325\n",
      "1740\n",
      "893\n",
      "1769\n",
      "1260\n",
      "1275\n",
      "786\n",
      "356\n",
      "374\n",
      "8\n",
      "23\n",
      "1723\n",
      "1374\n",
      "567\n",
      "1228\n",
      "959\n",
      "1451\n",
      "1470\n",
      "511\n",
      "106\n",
      "1517\n",
      "1549\n",
      "1047\n",
      "1069\n",
      "156\n",
      "1755\n",
      "170\n",
      "1601\n",
      "755\n",
      "235\n",
      "643\n",
      "1153\n",
      "276\n",
      "1565\n",
      "1388\n",
      "342\n"
     ]
    }
   ],
   "source": [
    "index_inverse(\"cisi/cisi.txt\", \"reslt/test_inv\",\"reslt/test_inv_doc\")"
   ]
  },
  {
   "cell_type": "code",
   "execution_count": null,
   "metadata": {},
   "outputs": [],
   "source": []
  }
 ],
 "metadata": {
  "kernelspec": {
   "display_name": "Python 2",
   "language": "python",
   "name": "python2"
  },
  "language_info": {
   "codemirror_mode": {
    "name": "ipython",
    "version": 2
   },
   "file_extension": ".py",
   "mimetype": "text/x-python",
   "name": "python",
   "nbconvert_exporter": "python",
   "pygments_lexer": "ipython2",
   "version": "2.7.13"
  }
 },
 "nbformat": 4,
 "nbformat_minor": 2
}
