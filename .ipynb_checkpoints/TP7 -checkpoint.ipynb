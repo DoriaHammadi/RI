{
 "cells": [
  {
   "cell_type": "markdown",
   "metadata": {},
   "source": [
    "### RI TP7"
   ]
  },
  {
   "cell_type": "code",
   "execution_count": 1,
   "metadata": {},
   "outputs": [],
   "source": [
    "%load_ext autoreload\n",
    "%autoreload 2\n",
    "import numpy as np\n",
    "import time\n",
    "import Document\n",
    "import porter\n",
    "import TextRepresenter\n",
    "import Parser\n",
    "import ParserCACM\n",
    "from index import *\n",
    "from weighter import *\n",
    "from modeles import *\n",
    "from evaluation import *\n",
    "from QueryParser import *\n",
    "from RandomModel import *\n",
    "import pandas as pd\n",
    "import matplotlib.pyplot as plt\n",
    "from sklearn.cluster import Birch\n",
    "from clustering import *\n",
    "from sklearn.cluster import KMeans"
   ]
  },
  {
   "cell_type": "code",
   "execution_count": 4,
   "metadata": {},
   "outputs": [],
   "source": [
    "index = Index(\"easyCLEF08\")"
   ]
  },
  {
   "cell_type": "code",
   "execution_count": 3,
   "metadata": {},
   "outputs": [],
   "source": [
    "index.indextion(source = 'easyCLEF08/easyCLEF08_text.txt')"
   ]
  },
  {
   "cell_type": "code",
   "execution_count": 4,
   "metadata": {},
   "outputs": [],
   "source": [
    "index.indextion_inverse(source = \"easyCLEF08/easyCLEF08_text.txt\")"
   ]
  },
  {
   "cell_type": "code",
   "execution_count": 3,
   "metadata": {},
   "outputs": [
    {
     "data": {
      "text/plain": [
       "<index.Index at 0x11257fba8>"
      ]
     },
     "execution_count": 3,
     "metadata": {},
     "output_type": "execute_result"
    }
   ],
   "source": [
    "index"
   ]
  },
  {
   "cell_type": "code",
   "execution_count": 2,
   "metadata": {},
   "outputs": [],
   "source": [
    "porter = TextRepresenter.PorterStemmer()\n",
    "query_parser = QueryParser(TextRepresenter.PorterStemmer())\n",
    "query_parser.initQry('easyCLEF08/easyCLEF08_query.txt')\n",
    "query_parser.initRel('easyCLEF08/easyCLEF08_gt.txt')\n",
    "queries = []\n",
    "for i in range(0,3):\n",
    "    q =query_parser.nextQuery()\n",
    "    queries.append(q)"
   ]
  },
  {
   "cell_type": "code",
   "execution_count": 79,
   "metadata": {},
   "outputs": [
    {
     "name": "stdout",
     "output_type": "stream",
     "text": [
      "[' \\n  \\n  \\n  church with more than two towers. Relevant images will show a church, cathedral or a mosque with three or more towers. Churches with only one or two towers are not relevant. Buildings that are not churches, cathedrals or mosques are not relevant even if they have more than two towers.', ' \\n  \\n  \\n  religious statue in the foreground. Relevant images will show a statue of one (or more) religious figures such as gods, angels, prophets etc. from any kind of religion in the foreground. Non-religious statues like war memorials or monuments are not relevant. Images with statues that are not the focus of the image (like the front view of church with many small statues) are not relevant. The statues of Easter Island are not relevant as they do not have any religious background.', ' \\n  \\n  \\n  animal swimming. Relevant images will show one or more animals (fish, birds, reptiles, etc.) swimming in a body of water. Images of people swimming in water are not relevant. Images of animals that are not swimming are not not relevant.']\n"
     ]
    }
   ],
   "source": [
    "print([q.get_text() for q in queries])"
   ]
  },
  {
   "cell_type": "code",
   "execution_count": 76,
   "metadata": {},
   "outputs": [
    {
     "name": "stdout",
     "output_type": "stream",
     "text": [
      "[' \\n  \\n  \\n  church with more than two towers. Relevant images will show a church, cathedral or a mosque with three or more towers. Churches with only one or two towers are not relevant. Buildings that are not churches, cathedrals or mosques are not relevant even if they have more than two towers.']\n"
     ]
    }
   ],
   "source": [
    "print([q.get_text() for q in queries])"
   ]
  },
  {
   "cell_type": "markdown",
   "metadata": {},
   "source": [
    "### Comparaison des Méthodes :"
   ]
  },
  {
   "cell_type": "code",
   "execution_count": 3,
   "metadata": {},
   "outputs": [],
   "source": [
    "weighter = Weighter_01(index)\n",
    "model = Vectoriel(index, weighter, True)"
   ]
  },
  {
   "cell_type": "code",
   "execution_count": 43,
   "metadata": {},
   "outputs": [],
   "source": [
    "weighter = Weighter_01(index)\n",
    "model_vect = Vectoriel(index, weighter, True)\n",
    "model_l = ModelLangue(index, 0.05)\n",
    "model_o = ModelBM25(index)\n",
    "models = [model_vect, model_l, model_o]"
   ]
  },
  {
   "cell_type": "code",
   "execution_count": 52,
   "metadata": {},
   "outputs": [
    {
     "name": "stdout",
     "output_type": "stream",
     "text": [
      "['23297', '23959', '38169', '37169', '32866', '37371', '37201', '37353', '37391', '13713', '21420', '37392', '10171', '37202', '37208', '23241', '37387', '13036', '4898', '4945']\n",
      "['3407', '3414', '38216', '38217', '38218', '38219', '38221', '38222', '35780', '35884', '35885', '4815', '4759', '21221', '4723', '14520', '15973', '30334', '38898', '39169']\n",
      "['38271', '23052', '3090', '3166', '26625', '15405', '19114', '13183', '30869', '30866', '30827', '30828', '3573', '30817', '30822', '30830', '30865', '16638', '30831', '30825']\n",
      "['37567', '37603', '37761', '37786', '37789', '37790', '37765', '38160', '37788', '37735', '37627', '37568', '37569', '37601', '37667', '37668', '37677', '37678', '37595', '37602']\n",
      "['21324', '3147', '21256', '9595', '4089', '21212', '21222', '37244', '11629', '27619', '13594', '37896', '37897', '37895', '7043', '13546', '4946', '4082', '21221', '27679']\n"
     ]
    }
   ],
   "source": [
    "pn20 = []\n",
    "crn20 = []\n",
    "for i in models:\n",
    "    \n",
    "    Eval = Pn(i, queries, 20)\n",
    "    pn20.append(Eval.Evaluation_queries())\n",
    "    Eval2 = CRn(i, queries, 20)\n",
    "    crn20.append(Eval2.Evaluation_queries())\n",
    "    "
   ]
  },
  {
   "cell_type": "code",
   "execution_count": 53,
   "metadata": {},
   "outputs": [
    {
     "name": "stdout",
     "output_type": "stream",
     "text": [
      "[0.5700000000000001] [0.5334782608695653]\n"
     ]
    }
   ],
   "source": [
    "print(pn20, crn20)"
   ]
  },
  {
   "cell_type": "code",
   "execution_count": 38,
   "metadata": {},
   "outputs": [
    {
     "data": {
      "text/html": [
       "<div>\n",
       "<style scoped>\n",
       "    .dataframe tbody tr th:only-of-type {\n",
       "        vertical-align: middle;\n",
       "    }\n",
       "\n",
       "    .dataframe tbody tr th {\n",
       "        vertical-align: top;\n",
       "    }\n",
       "\n",
       "    .dataframe thead th {\n",
       "        text-align: right;\n",
       "    }\n",
       "</style>\n",
       "<table border=\"1\" class=\"dataframe\">\n",
       "  <thead>\n",
       "    <tr style=\"text-align: right;\">\n",
       "      <th></th>\n",
       "      <th>Vectoriel</th>\n",
       "      <th>ModelLangue</th>\n",
       "      <th>BM25</th>\n",
       "    </tr>\n",
       "  </thead>\n",
       "  <tbody>\n",
       "    <tr>\n",
       "      <th>P@20</th>\n",
       "      <td>0.333333</td>\n",
       "      <td>0.200000</td>\n",
       "      <td>0.4</td>\n",
       "    </tr>\n",
       "    <tr>\n",
       "      <th>CR@20</th>\n",
       "      <td>0.208333</td>\n",
       "      <td>0.083333</td>\n",
       "      <td>0.3</td>\n",
       "    </tr>\n",
       "  </tbody>\n",
       "</table>\n",
       "</div>"
      ],
      "text/plain": [
       "       Vectoriel  ModelLangue  BM25\n",
       "P@20    0.333333     0.200000   0.4\n",
       "CR@20   0.208333     0.083333   0.3"
      ]
     },
     "execution_count": 38,
     "metadata": {},
     "output_type": "execute_result"
    }
   ],
   "source": [
    "result = pd.DataFrame([pn20,crn20], index = [\"P@20\", \"CR@20\"], columns = ['Vectoriel', 'ModelLangue', 'BM25'])\n",
    "result"
   ]
  },
  {
   "cell_type": "code",
   "execution_count": 56,
   "metadata": {},
   "outputs": [
    {
     "data": {
      "text/html": [
       "<div>\n",
       "<style scoped>\n",
       "    .dataframe tbody tr th:only-of-type {\n",
       "        vertical-align: middle;\n",
       "    }\n",
       "\n",
       "    .dataframe tbody tr th {\n",
       "        vertical-align: top;\n",
       "    }\n",
       "\n",
       "    .dataframe thead th {\n",
       "        text-align: right;\n",
       "    }\n",
       "</style>\n",
       "<table border=\"1\" class=\"dataframe\">\n",
       "  <thead>\n",
       "    <tr style=\"text-align: right;\">\n",
       "      <th></th>\n",
       "      <th>Vectoriel</th>\n",
       "      <th>ModelLangue</th>\n",
       "      <th>BM25</th>\n",
       "    </tr>\n",
       "  </thead>\n",
       "  <tbody>\n",
       "    <tr>\n",
       "      <th>P@10</th>\n",
       "      <td>0.215385</td>\n",
       "      <td>0.223077</td>\n",
       "      <td>0.674359</td>\n",
       "    </tr>\n",
       "    <tr>\n",
       "      <th>CR@10</th>\n",
       "      <td>0.173756</td>\n",
       "      <td>0.158160</td>\n",
       "      <td>0.444638</td>\n",
       "    </tr>\n",
       "  </tbody>\n",
       "</table>\n",
       "</div>"
      ],
      "text/plain": [
       "       Vectoriel  ModelLangue      BM25\n",
       "P@10    0.215385     0.223077  0.674359\n",
       "CR@10   0.173756     0.158160  0.444638"
      ]
     },
     "execution_count": 56,
     "metadata": {},
     "output_type": "execute_result"
    }
   ],
   "source": [
    "result = pd.DataFrame([pn20,crn20], index = [\"P@10\", \"CR@10\"], columns = ['Vectoriel', 'ModelLangue', 'BM25'])\n",
    "result"
   ]
  },
  {
   "cell_type": "markdown",
   "metadata": {},
   "source": [
    "# choix de l'algorithme clustering:"
   ]
  },
  {
   "cell_type": "markdown",
   "metadata": {},
   "source": [
    "## Model BM25 avec Clustering:"
   ]
  },
  {
   "cell_type": "markdown",
   "metadata": {},
   "source": [
    "## Birch:"
   ]
  },
  {
   "cell_type": "code",
   "execution_count": 4,
   "metadata": {},
   "outputs": [],
   "source": [
    "model = ModelLangue(index, 0.05)"
   ]
  },
  {
   "cell_type": "code",
   "execution_count": 9,
   "metadata": {},
   "outputs": [],
   "source": [
    "clustering = Birch( branching_factor=50, n_clusters=50, threshold=0.5, compute_labels=True)\n",
    "modelClus = ClusteringModel(index, model, clustering)\n"
   ]
  },
  {
   "cell_type": "code",
   "execution_count": 44,
   "metadata": {},
   "outputs": [
    {
     "data": {
      "text/plain": [
       "str"
      ]
     },
     "execution_count": 44,
     "metadata": {},
     "output_type": "execute_result"
    }
   ],
   "source": [
    "type(docs[0])"
   ]
  },
  {
   "cell_type": "code",
   "execution_count": 6,
   "metadata": {},
   "outputs": [],
   "source": [
    "Evalpn = Pn(modelClus, queries, 20)"
   ]
  },
  {
   "cell_type": "code",
   "execution_count": 46,
   "metadata": {},
   "outputs": [
    {
     "data": {
      "text/plain": [
       "0.5012820512820512"
      ]
     },
     "execution_count": 46,
     "metadata": {},
     "output_type": "execute_result"
    }
   ],
   "source": [
    "Evalpn.Evaluation_queries()"
   ]
  },
  {
   "cell_type": "code",
   "execution_count": 10,
   "metadata": {},
   "outputs": [],
   "source": [
    "EvalCRn = CRn(modelClus, queries, 20)"
   ]
  },
  {
   "cell_type": "code",
   "execution_count": 11,
   "metadata": {},
   "outputs": [
    {
     "name": "stderr",
     "output_type": "stream",
     "text": [
      "/Users/macos/RI/modeles.py:86: RuntimeWarning: divide by zero encountered in log\n",
      "  scores[doc] += np.log((1 - self.lamda) * float(sum(docs.values())) / sum(lengthDocs.values()))\n",
      "/Users/macos/RI/modeles.py:88: RuntimeWarning: divide by zero encountered in log\n",
      "  x += np.log((1 - self.lamda) * float(sum(docs.values())) / sum(lengthDocs.values()))\n",
      "/Users/macos/RI/modeles.py:88: RuntimeWarning: divide by zero encountered in log\n",
      "  x += np.log((1 - self.lamda) * float(sum(docs.values())) / sum(lengthDocs.values()))\n",
      "/Users/macos/RI/modeles.py:86: RuntimeWarning: divide by zero encountered in log\n",
      "  scores[doc] += np.log((1 - self.lamda) * float(sum(docs.values())) / sum(lengthDocs.values()))\n",
      "/Users/macos/RI/modeles.py:86: RuntimeWarning: divide by zero encountered in log\n",
      "  scores[doc] += np.log((1 - self.lamda) * float(sum(docs.values())) / sum(lengthDocs.values()))\n",
      "/Users/macos/RI/modeles.py:88: RuntimeWarning: divide by zero encountered in log\n",
      "  x += np.log((1 - self.lamda) * float(sum(docs.values())) / sum(lengthDocs.values()))\n",
      "/Users/macos/RI/modeles.py:86: RuntimeWarning: divide by zero encountered in log\n",
      "  scores[doc] += np.log((1 - self.lamda) * float(sum(docs.values())) / sum(lengthDocs.values()))\n",
      "/Users/macos/RI/modeles.py:88: RuntimeWarning: divide by zero encountered in log\n",
      "  x += np.log((1 - self.lamda) * float(sum(docs.values())) / sum(lengthDocs.values()))\n",
      "/Users/macos/RI/modeles.py:86: RuntimeWarning: divide by zero encountered in log\n",
      "  scores[doc] += np.log((1 - self.lamda) * float(sum(docs.values())) / sum(lengthDocs.values()))\n",
      "/Users/macos/RI/modeles.py:88: RuntimeWarning: divide by zero encountered in log\n",
      "  x += np.log((1 - self.lamda) * float(sum(docs.values())) / sum(lengthDocs.values()))\n",
      "/Users/macos/RI/modeles.py:86: RuntimeWarning: divide by zero encountered in log\n",
      "  scores[doc] += np.log((1 - self.lamda) * float(sum(docs.values())) / sum(lengthDocs.values()))\n",
      "/Users/macos/RI/modeles.py:88: RuntimeWarning: divide by zero encountered in log\n",
      "  x += np.log((1 - self.lamda) * float(sum(docs.values())) / sum(lengthDocs.values()))\n",
      "/Users/macos/RI/modeles.py:86: RuntimeWarning: divide by zero encountered in log\n",
      "  scores[doc] += np.log((1 - self.lamda) * float(sum(docs.values())) / sum(lengthDocs.values()))\n",
      "/Users/macos/RI/modeles.py:88: RuntimeWarning: divide by zero encountered in log\n",
      "  x += np.log((1 - self.lamda) * float(sum(docs.values())) / sum(lengthDocs.values()))\n",
      "/Users/macos/RI/modeles.py:86: RuntimeWarning: divide by zero encountered in log\n",
      "  scores[doc] += np.log((1 - self.lamda) * float(sum(docs.values())) / sum(lengthDocs.values()))\n",
      "/Users/macos/RI/modeles.py:88: RuntimeWarning: divide by zero encountered in log\n",
      "  x += np.log((1 - self.lamda) * float(sum(docs.values())) / sum(lengthDocs.values()))\n",
      "/Users/macos/RI/modeles.py:86: RuntimeWarning: divide by zero encountered in log\n",
      "  scores[doc] += np.log((1 - self.lamda) * float(sum(docs.values())) / sum(lengthDocs.values()))\n",
      "/Users/macos/RI/modeles.py:88: RuntimeWarning: divide by zero encountered in log\n",
      "  x += np.log((1 - self.lamda) * float(sum(docs.values())) / sum(lengthDocs.values()))\n",
      "/Users/macos/RI/modeles.py:86: RuntimeWarning: divide by zero encountered in log\n",
      "  scores[doc] += np.log((1 - self.lamda) * float(sum(docs.values())) / sum(lengthDocs.values()))\n",
      "/Users/macos/RI/modeles.py:88: RuntimeWarning: divide by zero encountered in log\n",
      "  x += np.log((1 - self.lamda) * float(sum(docs.values())) / sum(lengthDocs.values()))\n",
      "/Users/macos/RI/modeles.py:86: RuntimeWarning: divide by zero encountered in log\n",
      "  scores[doc] += np.log((1 - self.lamda) * float(sum(docs.values())) / sum(lengthDocs.values()))\n",
      "/Users/macos/RI/modeles.py:88: RuntimeWarning: divide by zero encountered in log\n",
      "  x += np.log((1 - self.lamda) * float(sum(docs.values())) / sum(lengthDocs.values()))\n",
      "/Users/macos/RI/modeles.py:86: RuntimeWarning: divide by zero encountered in log\n",
      "  scores[doc] += np.log((1 - self.lamda) * float(sum(docs.values())) / sum(lengthDocs.values()))\n",
      "/Users/macos/RI/modeles.py:88: RuntimeWarning: divide by zero encountered in log\n",
      "  x += np.log((1 - self.lamda) * float(sum(docs.values())) / sum(lengthDocs.values()))\n",
      "/Users/macos/RI/modeles.py:86: RuntimeWarning: divide by zero encountered in log\n",
      "  scores[doc] += np.log((1 - self.lamda) * float(sum(docs.values())) / sum(lengthDocs.values()))\n",
      "/Users/macos/RI/modeles.py:88: RuntimeWarning: divide by zero encountered in log\n",
      "  x += np.log((1 - self.lamda) * float(sum(docs.values())) / sum(lengthDocs.values()))\n",
      "/Users/macos/RI/modeles.py:86: RuntimeWarning: divide by zero encountered in log\n",
      "  scores[doc] += np.log((1 - self.lamda) * float(sum(docs.values())) / sum(lengthDocs.values()))\n",
      "/Users/macos/RI/modeles.py:88: RuntimeWarning: divide by zero encountered in log\n",
      "  x += np.log((1 - self.lamda) * float(sum(docs.values())) / sum(lengthDocs.values()))\n",
      "/Users/macos/RI/modeles.py:86: RuntimeWarning: divide by zero encountered in log\n",
      "  scores[doc] += np.log((1 - self.lamda) * float(sum(docs.values())) / sum(lengthDocs.values()))\n",
      "/Users/macos/RI/modeles.py:88: RuntimeWarning: divide by zero encountered in log\n",
      "  x += np.log((1 - self.lamda) * float(sum(docs.values())) / sum(lengthDocs.values()))\n",
      "/Users/macos/RI/modeles.py:86: RuntimeWarning: divide by zero encountered in log\n",
      "  scores[doc] += np.log((1 - self.lamda) * float(sum(docs.values())) / sum(lengthDocs.values()))\n",
      "/Users/macos/RI/modeles.py:88: RuntimeWarning: divide by zero encountered in log\n",
      "  x += np.log((1 - self.lamda) * float(sum(docs.values())) / sum(lengthDocs.values()))\n",
      "/Users/macos/RI/modeles.py:88: RuntimeWarning: divide by zero encountered in log\n",
      "  x += np.log((1 - self.lamda) * float(sum(docs.values())) / sum(lengthDocs.values()))\n",
      "/Users/macos/RI/modeles.py:86: RuntimeWarning: divide by zero encountered in log\n",
      "  scores[doc] += np.log((1 - self.lamda) * float(sum(docs.values())) / sum(lengthDocs.values()))\n",
      "/Users/macos/RI/modeles.py:86: RuntimeWarning: divide by zero encountered in log\n",
      "  scores[doc] += np.log((1 - self.lamda) * float(sum(docs.values())) / sum(lengthDocs.values()))\n",
      "/Users/macos/RI/modeles.py:88: RuntimeWarning: divide by zero encountered in log\n",
      "  x += np.log((1 - self.lamda) * float(sum(docs.values())) / sum(lengthDocs.values()))\n",
      "/Users/macos/RI/modeles.py:86: RuntimeWarning: divide by zero encountered in log\n",
      "  scores[doc] += np.log((1 - self.lamda) * float(sum(docs.values())) / sum(lengthDocs.values()))\n",
      "/Users/macos/RI/modeles.py:88: RuntimeWarning: divide by zero encountered in log\n",
      "  x += np.log((1 - self.lamda) * float(sum(docs.values())) / sum(lengthDocs.values()))\n",
      "/Users/macos/RI/modeles.py:86: RuntimeWarning: divide by zero encountered in log\n",
      "  scores[doc] += np.log((1 - self.lamda) * float(sum(docs.values())) / sum(lengthDocs.values()))\n",
      "/Users/macos/RI/modeles.py:88: RuntimeWarning: divide by zero encountered in log\n",
      "  x += np.log((1 - self.lamda) * float(sum(docs.values())) / sum(lengthDocs.values()))\n",
      "/Users/macos/RI/modeles.py:86: RuntimeWarning: divide by zero encountered in log\n",
      "  scores[doc] += np.log((1 - self.lamda) * float(sum(docs.values())) / sum(lengthDocs.values()))\n",
      "/Users/macos/RI/modeles.py:88: RuntimeWarning: divide by zero encountered in log\n",
      "  x += np.log((1 - self.lamda) * float(sum(docs.values())) / sum(lengthDocs.values()))\n",
      "/Users/macos/RI/modeles.py:86: RuntimeWarning: divide by zero encountered in log\n",
      "  scores[doc] += np.log((1 - self.lamda) * float(sum(docs.values())) / sum(lengthDocs.values()))\n",
      "/Users/macos/RI/modeles.py:88: RuntimeWarning: divide by zero encountered in log\n",
      "  x += np.log((1 - self.lamda) * float(sum(docs.values())) / sum(lengthDocs.values()))\n",
      "/Users/macos/RI/modeles.py:88: RuntimeWarning: divide by zero encountered in log\n",
      "  x += np.log((1 - self.lamda) * float(sum(docs.values())) / sum(lengthDocs.values()))\n",
      "/Users/macos/RI/modeles.py:86: RuntimeWarning: divide by zero encountered in log\n",
      "  scores[doc] += np.log((1 - self.lamda) * float(sum(docs.values())) / sum(lengthDocs.values()))\n",
      "/Users/macos/RI/modeles.py:88: RuntimeWarning: divide by zero encountered in log\n",
      "  x += np.log((1 - self.lamda) * float(sum(docs.values())) / sum(lengthDocs.values()))\n",
      "/Users/macos/RI/modeles.py:86: RuntimeWarning: divide by zero encountered in log\n",
      "  scores[doc] += np.log((1 - self.lamda) * float(sum(docs.values())) / sum(lengthDocs.values()))\n"
     ]
    },
    {
     "name": "stderr",
     "output_type": "stream",
     "text": [
      "/Users/macos/RI/modeles.py:86: RuntimeWarning: divide by zero encountered in log\n",
      "  scores[doc] += np.log((1 - self.lamda) * float(sum(docs.values())) / sum(lengthDocs.values()))\n",
      "/Users/macos/RI/modeles.py:88: RuntimeWarning: divide by zero encountered in log\n",
      "  x += np.log((1 - self.lamda) * float(sum(docs.values())) / sum(lengthDocs.values()))\n",
      "/Users/macos/RI/modeles.py:86: RuntimeWarning: divide by zero encountered in log\n",
      "  scores[doc] += np.log((1 - self.lamda) * float(sum(docs.values())) / sum(lengthDocs.values()))\n",
      "/Users/macos/RI/modeles.py:88: RuntimeWarning: divide by zero encountered in log\n",
      "  x += np.log((1 - self.lamda) * float(sum(docs.values())) / sum(lengthDocs.values()))\n",
      "/Users/macos/RI/modeles.py:86: RuntimeWarning: divide by zero encountered in log\n",
      "  scores[doc] += np.log((1 - self.lamda) * float(sum(docs.values())) / sum(lengthDocs.values()))\n",
      "/Users/macos/RI/modeles.py:88: RuntimeWarning: divide by zero encountered in log\n",
      "  x += np.log((1 - self.lamda) * float(sum(docs.values())) / sum(lengthDocs.values()))\n",
      "/Users/macos/RI/modeles.py:86: RuntimeWarning: divide by zero encountered in log\n",
      "  scores[doc] += np.log((1 - self.lamda) * float(sum(docs.values())) / sum(lengthDocs.values()))\n",
      "/Users/macos/RI/modeles.py:88: RuntimeWarning: divide by zero encountered in log\n",
      "  x += np.log((1 - self.lamda) * float(sum(docs.values())) / sum(lengthDocs.values()))\n",
      "/Users/macos/RI/modeles.py:86: RuntimeWarning: divide by zero encountered in log\n",
      "  scores[doc] += np.log((1 - self.lamda) * float(sum(docs.values())) / sum(lengthDocs.values()))\n",
      "/Users/macos/RI/modeles.py:88: RuntimeWarning: divide by zero encountered in log\n",
      "  x += np.log((1 - self.lamda) * float(sum(docs.values())) / sum(lengthDocs.values()))\n",
      "/Users/macos/RI/modeles.py:88: RuntimeWarning: divide by zero encountered in log\n",
      "  x += np.log((1 - self.lamda) * float(sum(docs.values())) / sum(lengthDocs.values()))\n",
      "/Users/macos/RI/modeles.py:86: RuntimeWarning: divide by zero encountered in log\n",
      "  scores[doc] += np.log((1 - self.lamda) * float(sum(docs.values())) / sum(lengthDocs.values()))\n",
      "/Users/macos/RI/modeles.py:86: RuntimeWarning: divide by zero encountered in log\n",
      "  scores[doc] += np.log((1 - self.lamda) * float(sum(docs.values())) / sum(lengthDocs.values()))\n",
      "/Users/macos/RI/modeles.py:88: RuntimeWarning: divide by zero encountered in log\n",
      "  x += np.log((1 - self.lamda) * float(sum(docs.values())) / sum(lengthDocs.values()))\n",
      "/Users/macos/RI/modeles.py:86: RuntimeWarning: divide by zero encountered in log\n",
      "  scores[doc] += np.log((1 - self.lamda) * float(sum(docs.values())) / sum(lengthDocs.values()))\n",
      "/Users/macos/RI/modeles.py:88: RuntimeWarning: divide by zero encountered in log\n",
      "  x += np.log((1 - self.lamda) * float(sum(docs.values())) / sum(lengthDocs.values()))\n",
      "/Users/macos/RI/modeles.py:86: RuntimeWarning: divide by zero encountered in log\n",
      "  scores[doc] += np.log((1 - self.lamda) * float(sum(docs.values())) / sum(lengthDocs.values()))\n",
      "/Users/macos/RI/modeles.py:88: RuntimeWarning: divide by zero encountered in log\n",
      "  x += np.log((1 - self.lamda) * float(sum(docs.values())) / sum(lengthDocs.values()))\n",
      "/Users/macos/RI/modeles.py:86: RuntimeWarning: divide by zero encountered in log\n",
      "  scores[doc] += np.log((1 - self.lamda) * float(sum(docs.values())) / sum(lengthDocs.values()))\n",
      "/Users/macos/RI/modeles.py:88: RuntimeWarning: divide by zero encountered in log\n",
      "  x += np.log((1 - self.lamda) * float(sum(docs.values())) / sum(lengthDocs.values()))\n",
      "/Users/macos/RI/modeles.py:86: RuntimeWarning: divide by zero encountered in log\n",
      "  scores[doc] += np.log((1 - self.lamda) * float(sum(docs.values())) / sum(lengthDocs.values()))\n",
      "/Users/macos/RI/modeles.py:88: RuntimeWarning: divide by zero encountered in log\n",
      "  x += np.log((1 - self.lamda) * float(sum(docs.values())) / sum(lengthDocs.values()))\n",
      "/Users/macos/RI/modeles.py:86: RuntimeWarning: divide by zero encountered in log\n",
      "  scores[doc] += np.log((1 - self.lamda) * float(sum(docs.values())) / sum(lengthDocs.values()))\n",
      "/Users/macos/RI/modeles.py:88: RuntimeWarning: divide by zero encountered in log\n",
      "  x += np.log((1 - self.lamda) * float(sum(docs.values())) / sum(lengthDocs.values()))\n",
      "/Users/macos/RI/modeles.py:86: RuntimeWarning: divide by zero encountered in log\n",
      "  scores[doc] += np.log((1 - self.lamda) * float(sum(docs.values())) / sum(lengthDocs.values()))\n",
      "/Users/macos/RI/modeles.py:88: RuntimeWarning: divide by zero encountered in log\n",
      "  x += np.log((1 - self.lamda) * float(sum(docs.values())) / sum(lengthDocs.values()))\n",
      "/Users/macos/RI/modeles.py:88: RuntimeWarning: divide by zero encountered in log\n",
      "  x += np.log((1 - self.lamda) * float(sum(docs.values())) / sum(lengthDocs.values()))\n",
      "/Users/macos/RI/modeles.py:86: RuntimeWarning: divide by zero encountered in log\n",
      "  scores[doc] += np.log((1 - self.lamda) * float(sum(docs.values())) / sum(lengthDocs.values()))\n",
      "/Users/macos/RI/modeles.py:86: RuntimeWarning: divide by zero encountered in log\n",
      "  scores[doc] += np.log((1 - self.lamda) * float(sum(docs.values())) / sum(lengthDocs.values()))\n",
      "/Users/macos/RI/modeles.py:88: RuntimeWarning: divide by zero encountered in log\n",
      "  x += np.log((1 - self.lamda) * float(sum(docs.values())) / sum(lengthDocs.values()))\n"
     ]
    },
    {
     "data": {
      "text/plain": [
       "0.26002077632512416"
      ]
     },
     "execution_count": 11,
     "metadata": {},
     "output_type": "execute_result"
    }
   ],
   "source": [
    "EvalCRn.Evaluation_queries()"
   ]
  },
  {
   "cell_type": "markdown",
   "metadata": {},
   "source": [
    "#### 10"
   ]
  },
  {
   "cell_type": "code",
   "execution_count": 58,
   "metadata": {},
   "outputs": [
    {
     "data": {
      "text/plain": [
       "0.5076923076923077"
      ]
     },
     "execution_count": 58,
     "metadata": {},
     "output_type": "execute_result"
    }
   ],
   "source": [
    "Evalpn = Pn(modelClus, queries, 10)\n",
    "Evalpn.Evaluation_queries()"
   ]
  },
  {
   "cell_type": "code",
   "execution_count": 59,
   "metadata": {},
   "outputs": [
    {
     "data": {
      "text/plain": [
       "0.4082757419713941"
      ]
     },
     "execution_count": 59,
     "metadata": {},
     "output_type": "execute_result"
    }
   ],
   "source": [
    "EvalCRn = CRn(modelClus, queries, 10)\n",
    "EvalCRn.Evaluation_queries()"
   ]
  },
  {
   "cell_type": "markdown",
   "metadata": {},
   "source": [
    "## Kmeans "
   ]
  },
  {
   "cell_type": "markdown",
   "metadata": {},
   "source": [
    "#### RANG:"
   ]
  },
  {
   "cell_type": "code",
   "execution_count": 28,
   "metadata": {},
   "outputs": [
    {
     "name": "stdout",
     "output_type": "stream",
     "text": [
      "100\n",
      "ndocs ['23297', '23959', '38169', '37169', '32866', '37371', '37201', '37353', '37391', '13713', '21420', '37392', '10171', '37202', '37208', '23241', '37387', '13036', '4898', '4945', '37375', '6246', '6636', '8539', '11512', '37386', '8054', '2192', '25570', '10651', '15763', '9199', '11957', '14421', '32870', '15764', '4804', '11415', '37369', '22874', '15809', '17308', '18052', '6857', '19031', '25248', '6946', '31337', '32763', '39625', '40500', '10649', '37402', '15179', '6261', '37374', '16883', '18505', '21976', '6583', '37368', '7750', '6629', '37193', '3788', '17139', '15669', '13039', '37192', '37303', '35621', '16098', '37105', '36023', '36071', '37106', '37050', '37212', '38739', '38740', '37378', '17947', '15827', '37365', '23632', '37310', '37380', '37385', '39719', '32861', '4927', '6973', '37366', '40357', '40426', '5109', '19115', '37376', '4948', '38216']\n"
     ]
    },
    {
     "name": "stderr",
     "output_type": "stream",
     "text": [
      "/usr/local/lib/python3.7/site-packages/sklearn/cluster/k_means_.py:968: ConvergenceWarning: Number of distinct clusters (97) found smaller than n_clusters (100). Possibly due to duplicate points in X.\n",
      "  return_n_iter=True)\n"
     ]
    },
    {
     "name": "stdout",
     "output_type": "stream",
     "text": [
      "aaaaaa {0: ['19031'], 1: ['37380'], 2: ['37371'], 3: ['11415'], 4: ['37105'], 5: ['21976'], 6: ['37387'], 7: ['40357', '40426'], 8: ['15764'], 9: ['15669'], 10: ['40500'], 11: ['38739', '38740'], 12: ['37303'], 13: ['37169'], 14: ['32763', '39625'], 15: ['37366'], 16: ['23297'], 17: ['37202'], 18: ['4927'], 19: ['37192'], 20: ['8539'], 21: ['37369'], 22: ['36071'], 23: ['21420'], 24: ['38216'], 25: ['9199'], 26: ['13036'], 27: ['10171'], 28: ['32866'], 29: ['6261'], 30: ['17947'], 31: ['37353'], 32: ['37385'], 33: ['37386'], 34: ['4948'], 35: ['16098'], 36: ['39719'], 37: ['15179'], 38: ['37050'], 39: ['10651'], 40: ['6246'], 41: ['37193'], 42: ['38169'], 43: ['2192'], 44: ['25570'], 45: ['23632'], 46: ['37212'], 47: ['37402'], 48: ['35621'], 49: ['25248'], 50: ['6583'], 51: ['37378'], 52: ['19115'], 53: ['37375'], 54: ['31337'], 55: ['15827'], 56: ['37368'], 57: ['23241'], 58: ['32861'], 59: ['37208'], 60: ['4898'], 61: ['37391'], 62: ['18505'], 63: ['15763'], 64: ['13713'], 65: ['37376'], 66: ['10649'], 67: ['17139'], 68: ['14421'], 69: ['6629'], 70: ['32870'], 71: ['37310'], 72: ['36023'], 73: ['13039'], 74: ['5109'], 75: ['37374'], 76: ['37392'], 77: ['6973'], 78: ['16883'], 79: ['4804'], 80: ['37201'], 81: ['18052'], 82: ['23959'], 83: ['17308'], 84: ['3788'], 85: ['7750'], 86: ['22874'], 87: ['15809'], 88: ['4945'], 89: ['6636'], 90: ['6946'], 91: ['8054'], 92: ['37106'], 93: ['37365'], 94: ['11957'], 95: ['11512'], 96: ['6857']}\n",
      "orderclusters [16, 82, 42, 13, 28, 2, 80, 31, 61, 64, 23, 76, 27, 17, 59, 57, 6, 26, 60, 88, 53, 40, 89, 20, 95, 33, 91, 43, 44, 39, 63, 25, 94, 68, 70, 8, 79, 3, 21, 86, 87, 83, 81, 96, 0, 49, 90, 54, 14, 10, 66, 47, 37, 29, 75, 78, 62, 5, 50, 56, 85, 69, 41, 84, 67, 9, 73, 19, 12, 48, 35, 4, 72, 22, 92, 38, 46, 11, 51, 30, 55, 93, 45, 71, 1, 32, 36, 58, 18, 77, 15, 7, 74, 52, 65, 34, 24]\n",
      "taille cluster ######################## 97\n",
      "ndocs ['3407', '3414', '38216', '38217', '38218', '38219', '38221', '38222', '35780', '35884', '35885', '4815', '4759', '21221', '4723', '14520', '15973', '30334', '38898', '39169', '6246', '4946', '4089', '11230', '38265', '4900', '15194', '37237', '2858', '37244', '23241', '4642', '4927', '4812', '5109', '21222', '17947', '27353', '19115', '21319', '10730', '25966', '20357', '15763', '30843', '28', '17550', '39131', '19194', '27510', '19135', '38129', '36035', '39133', '23052', '27322', '37636', '37386', '9125', '15179', '21324', '27354', '4531', '31217', '37191', '20914', '37261', '20356', '37262', '20262', '37194', '23108', '22874', '37192', '37602', '37604', '20484', '35844', '35783', '6583', '4898', '6973', '21976', '4533', '4948', '22777', '30011', '16007', '3334', '3975', '15764', '10657', '27682', '21420', '10999', '40542', '37627', '39447', '20348', '20349']\n"
     ]
    },
    {
     "name": "stderr",
     "output_type": "stream",
     "text": [
      "/usr/local/lib/python3.7/site-packages/sklearn/cluster/k_means_.py:968: ConvergenceWarning: Number of distinct clusters (92) found smaller than n_clusters (100). Possibly due to duplicate points in X.\n",
      "  return_n_iter=True)\n"
     ]
    },
    {
     "name": "stdout",
     "output_type": "stream",
     "text": [
      "aaaaaa {0: ['30843'], 1: ['4533'], 2: ['38219', '38221', '38222'], 3: ['21319'], 4: ['37194'], 5: ['37602', '37604'], 6: ['11230'], 7: ['28'], 8: ['30334', '38898', '39169'], 9: ['31217'], 10: ['20348', '20349'], 11: ['35783'], 12: ['37261'], 13: ['35884', '35885'], 14: ['37386'], 15: ['21221'], 16: ['3407'], 17: ['38265'], 18: ['20914'], 19: ['38129'], 20: ['4812'], 21: ['23241'], 22: ['23052'], 23: ['21324'], 24: ['37244'], 25: ['39133'], 26: ['35780'], 27: ['19135'], 28: ['4759'], 29: ['27354'], 30: ['22874'], 31: ['15179'], 32: ['20262'], 33: ['23108'], 34: ['27322'], 35: ['35844'], 36: ['21420'], 37: ['36035'], 38: ['15763'], 39: ['2858'], 40: ['22777'], 41: ['4948'], 42: ['21976'], 43: ['6973'], 44: ['4723'], 45: ['39447'], 46: ['20357'], 47: ['17550'], 48: ['16007'], 49: ['19115'], 50: ['21222'], 51: ['10730'], 52: ['40542'], 53: ['20484'], 54: ['5109'], 55: ['37636'], 56: ['6246'], 57: ['4946'], 58: ['10657'], 59: ['15973'], 60: ['14520'], 61: ['4815'], 62: ['9125'], 63: ['3334'], 64: ['6583'], 65: ['4898'], 66: ['10999'], 67: ['39131'], 68: ['4089'], 69: ['15764'], 70: ['30011'], 71: ['4927'], 72: ['17947'], 73: ['37627'], 74: ['27682'], 75: ['15194'], 76: ['4900'], 77: ['3975'], 78: ['27510'], 79: ['37237'], 80: ['38216', '38217'], 81: ['25966'], 82: ['27353'], 83: ['4531'], 84: ['20356'], 85: ['3414'], 86: ['37191'], 87: ['37192'], 88: ['4642'], 89: ['38218'], 90: ['37262'], 91: ['19194']}\n",
      "orderclusters [16, 85, 80, 89, 2, 26, 13, 61, 28, 15, 44, 60, 59, 8, 56, 57, 68, 6, 17, 76, 75, 79, 39, 24, 21, 88, 71, 20, 54, 50, 72, 82, 49, 3, 51, 81, 46, 38, 0, 7, 47, 67, 91, 78, 27, 19, 37, 25, 22, 34, 55, 14, 62, 31, 23, 29, 83, 9, 86, 18, 12, 84, 90, 32, 4, 33, 30, 87, 5, 53, 35, 11, 64, 65, 43, 42, 1, 41, 40, 70, 48, 63, 77, 69, 58, 74, 36, 66, 52, 73, 45, 10]\n",
      "taille cluster ######################## 92\n",
      "ndocs ['38271', '23052', '3090', '3166', '26625', '15405', '19114', '13183', '30869', '30866', '30827', '30828', '3573', '30817', '30822', '30830', '30865', '16638', '30831', '30825', '30824', '20292', '27624', '30826', '3525', '18252', '19113', '27437', '30863', '17836', '30846', '20467', '20262', '11330', '11726', '26709', '21054', '11170', '6379', '9151', '27436', '4849', '10738', '11549', '31072', '9149', '9331', '30845', '18907', '15645', '30829', '30843', '30844', '11855', '4219', '6297', '35644', '13409', '16767', '4224', '35647', '40224', '35646', '38914', '19108', '38739', '38740', '39184', '8489', '25648', '15699', '9696', '16005', '26912', '27503', '2172', '11519', '16928', '3092', '3138', '3560', '6275', '3552', '7564', '9159', '10730', '20282', '24320', '27662', '2285', '2714', '3035', '6267', '6270', '16840', '22235', '23329', '4218', '23908', '23704']\n"
     ]
    },
    {
     "name": "stderr",
     "output_type": "stream",
     "text": [
      "/usr/local/lib/python3.7/site-packages/sklearn/cluster/k_means_.py:968: ConvergenceWarning: Number of distinct clusters (99) found smaller than n_clusters (100). Possibly due to duplicate points in X.\n",
      "  return_n_iter=True)\n"
     ]
    },
    {
     "name": "stdout",
     "output_type": "stream",
     "text": [
      "aaaaaa {0: ['31072'], 1: ['16767'], 2: ['30826'], 3: ['11330'], 4: ['3560'], 5: ['30866'], 6: ['26912'], 7: ['35647'], 8: ['30831'], 9: ['38914'], 10: ['4219'], 11: ['20467'], 12: ['38739', '38740'], 13: ['3166'], 14: ['11855'], 15: ['27662'], 16: ['21054'], 17: ['20262'], 18: ['19113'], 19: ['30827'], 20: ['18252'], 21: ['9331'], 22: ['11519'], 23: ['23052'], 24: ['27624'], 25: ['9149'], 26: ['9159'], 27: ['4849'], 28: ['27437'], 29: ['9151'], 30: ['20282'], 31: ['27503'], 32: ['40224'], 33: ['13183'], 34: ['23908'], 35: ['19108'], 36: ['20292'], 37: ['9696'], 38: ['3092'], 39: ['6267'], 40: ['16638'], 41: ['17836'], 42: ['3138'], 43: ['19114'], 44: ['11170'], 45: ['4224'], 46: ['6270'], 47: ['15645'], 48: ['3035'], 49: ['27436'], 50: ['6379'], 51: ['30863'], 52: ['16840'], 53: ['18907'], 54: ['26625'], 55: ['13409'], 56: ['2285'], 57: ['3573'], 58: ['2714'], 59: ['11549'], 60: ['30817'], 61: ['8489'], 62: ['6275'], 63: ['38271'], 64: ['4218'], 65: ['23329'], 66: ['3525'], 67: ['10730'], 68: ['30825'], 69: ['25648'], 70: ['10738'], 71: ['3090'], 72: ['30869'], 73: ['24320'], 74: ['23704'], 75: ['30844'], 76: ['30822'], 77: ['6297'], 78: ['16928'], 79: ['35646'], 80: ['15405'], 81: ['16005'], 82: ['22235'], 83: ['35644'], 84: ['15699'], 85: ['7564'], 86: ['30845'], 87: ['30843'], 88: ['30824'], 89: ['2172'], 90: ['30846'], 91: ['39184'], 92: ['30829'], 93: ['30830'], 94: ['26709'], 95: ['30828'], 96: ['30865'], 97: ['11726'], 98: ['3552']}\n",
      "orderclusters [63, 23, 71, 13, 54, 80, 43, 33, 72, 5, 19, 95, 57, 60, 76, 93, 96, 40, 8, 68, 88, 36, 24, 2, 66, 20, 18, 28, 51, 41, 90, 11, 17, 3, 97, 94, 16, 44, 50, 29, 49, 27, 70, 59, 0, 25, 21, 86, 53, 47, 92, 87, 75, 14, 10, 77, 83, 55, 1, 45, 7, 32, 79, 9, 35, 12, 91, 61, 69, 84, 37, 81, 6, 31, 89, 22, 78, 38, 42, 4, 62, 98, 85, 26, 67, 30, 73, 15, 56, 58, 48, 39, 46, 52, 82, 65, 64, 34, 74]\n",
      "taille cluster ######################## 99\n",
      "ndocs ['23297', '23959', '38169', '37169', '32866', '37371', '37201', '37353', '37391', '13713', '21420', '37392', '10171', '37202', '37208', '23241', '37387', '13036', '4898', '4945', '37375', '6246', '6636', '8539', '11512', '37386', '8054', '2192', '25570', '10651', '15763', '9199', '11957', '14421', '32870', '15764', '4804', '11415', '37369', '22874', '15809', '17308', '18052', '6857', '19031', '25248', '6946', '31337', '32763', '39625', '40500', '10649', '37402', '15179', '6261', '37374', '16883', '18505', '21976', '6583', '37368', '7750', '6629', '37193', '3788', '17139', '15669', '13039', '37192', '37303', '35621', '16098', '37105', '36023', '36071', '37106', '37050', '37212', '38739', '38740', '37378', '17947', '15827', '37365', '23632', '37310', '37380', '37385', '39719', '32861', '4927', '6973', '37366', '40357', '40426', '5109', '19115', '37376', '4948', '38216']\n"
     ]
    },
    {
     "name": "stderr",
     "output_type": "stream",
     "text": [
      "/usr/local/lib/python3.7/site-packages/sklearn/cluster/k_means_.py:968: ConvergenceWarning: Number of distinct clusters (97) found smaller than n_clusters (100). Possibly due to duplicate points in X.\n",
      "  return_n_iter=True)\n"
     ]
    },
    {
     "name": "stdout",
     "output_type": "stream",
     "text": [
      "aaaaaa {0: ['19031'], 1: ['37380'], 2: ['37371'], 3: ['11415'], 4: ['37105'], 5: ['21976'], 6: ['37387'], 7: ['40357', '40426'], 8: ['15764'], 9: ['15669'], 10: ['40500'], 11: ['38739', '38740'], 12: ['37303'], 13: ['37169'], 14: ['32763', '39625'], 15: ['37366'], 16: ['23297'], 17: ['37202'], 18: ['4927'], 19: ['37192'], 20: ['8539'], 21: ['37369'], 22: ['36071'], 23: ['21420'], 24: ['38216'], 25: ['9199'], 26: ['13036'], 27: ['10171'], 28: ['32866'], 29: ['6261'], 30: ['17947'], 31: ['37353'], 32: ['37385'], 33: ['37386'], 34: ['4948'], 35: ['16098'], 36: ['39719'], 37: ['15179'], 38: ['37050'], 39: ['10651'], 40: ['6246'], 41: ['37193'], 42: ['38169'], 43: ['2192'], 44: ['25570'], 45: ['23632'], 46: ['37212'], 47: ['37402'], 48: ['35621'], 49: ['25248'], 50: ['6583'], 51: ['37378'], 52: ['19115'], 53: ['37375'], 54: ['31337'], 55: ['15827'], 56: ['37368'], 57: ['23241'], 58: ['32861'], 59: ['37208'], 60: ['4898'], 61: ['37391'], 62: ['18505'], 63: ['15763'], 64: ['13713'], 65: ['37376'], 66: ['10649'], 67: ['17139'], 68: ['14421'], 69: ['6629'], 70: ['32870'], 71: ['37310'], 72: ['36023'], 73: ['13039'], 74: ['5109'], 75: ['37374'], 76: ['37392'], 77: ['6973'], 78: ['16883'], 79: ['4804'], 80: ['37201'], 81: ['18052'], 82: ['23959'], 83: ['17308'], 84: ['3788'], 85: ['7750'], 86: ['22874'], 87: ['15809'], 88: ['4945'], 89: ['6636'], 90: ['6946'], 91: ['8054'], 92: ['37106'], 93: ['37365'], 94: ['11957'], 95: ['11512'], 96: ['6857']}\n",
      "orderclusters [16, 82, 42, 13, 28, 2, 80, 31, 61, 64, 23, 76, 27, 17, 59, 57, 6, 26, 60, 88, 53, 40, 89, 20, 95, 33, 91, 43, 44, 39, 63, 25, 94, 68, 70, 8, 79, 3, 21, 86, 87, 83, 81, 96, 0, 49, 90, 54, 14, 10, 66, 47, 37, 29, 75, 78, 62, 5, 50, 56, 85, 69, 41, 84, 67, 9, 73, 19, 12, 48, 35, 4, 72, 22, 92, 38, 46, 11, 51, 30, 55, 93, 45, 71, 1, 32, 36, 58, 18, 77, 15, 7, 74, 52, 65, 34, 24]\n",
      "taille cluster ######################## 97\n",
      "evaluation ['23297', '23959', '38169', '37169', '32866', '37371', '37201', '37353', '37391', '13713', '21420', '37392', '10171', '37202', '37208', '23241', '37387', '13036', '4898', '4945']\n",
      "ndocs ['3407', '3414', '38216', '38217', '38218', '38219', '38221', '38222', '35780', '35884', '35885', '4815', '4759', '21221', '4723', '14520', '15973', '30334', '38898', '39169', '6246', '4946', '4089', '11230', '38265', '4900', '15194', '37237', '2858', '37244', '23241', '4642', '4927', '4812', '5109', '21222', '17947', '27353', '19115', '21319', '10730', '25966', '20357', '15763', '30843', '28', '17550', '39131', '19194', '27510', '19135', '38129', '36035', '39133', '23052', '27322', '37636', '37386', '9125', '15179', '21324', '27354', '4531', '31217', '37191', '20914', '37261', '20356', '37262', '20262', '37194', '23108', '22874', '37192', '37602', '37604', '20484', '35844', '35783', '6583', '4898', '6973', '21976', '4533', '4948', '22777', '30011', '16007', '3334', '3975', '15764', '10657', '27682', '21420', '10999', '40542', '37627', '39447', '20348', '20349']\n"
     ]
    },
    {
     "name": "stderr",
     "output_type": "stream",
     "text": [
      "/usr/local/lib/python3.7/site-packages/sklearn/cluster/k_means_.py:968: ConvergenceWarning: Number of distinct clusters (92) found smaller than n_clusters (100). Possibly due to duplicate points in X.\n",
      "  return_n_iter=True)\n"
     ]
    },
    {
     "name": "stdout",
     "output_type": "stream",
     "text": [
      "aaaaaa {0: ['30843'], 1: ['4533'], 2: ['38219', '38221', '38222'], 3: ['21319'], 4: ['37194'], 5: ['37602', '37604'], 6: ['11230'], 7: ['28'], 8: ['30334', '38898', '39169'], 9: ['31217'], 10: ['20348', '20349'], 11: ['35783'], 12: ['37261'], 13: ['35884', '35885'], 14: ['37386'], 15: ['21221'], 16: ['3407'], 17: ['38265'], 18: ['20914'], 19: ['38129'], 20: ['4812'], 21: ['23241'], 22: ['23052'], 23: ['21324'], 24: ['37244'], 25: ['39133'], 26: ['35780'], 27: ['19135'], 28: ['4759'], 29: ['27354'], 30: ['22874'], 31: ['15179'], 32: ['20262'], 33: ['23108'], 34: ['27322'], 35: ['35844'], 36: ['21420'], 37: ['36035'], 38: ['15763'], 39: ['2858'], 40: ['22777'], 41: ['4948'], 42: ['21976'], 43: ['6973'], 44: ['4723'], 45: ['39447'], 46: ['20357'], 47: ['17550'], 48: ['16007'], 49: ['19115'], 50: ['21222'], 51: ['10730'], 52: ['40542'], 53: ['20484'], 54: ['5109'], 55: ['37636'], 56: ['6246'], 57: ['4946'], 58: ['10657'], 59: ['15973'], 60: ['14520'], 61: ['4815'], 62: ['9125'], 63: ['3334'], 64: ['6583'], 65: ['4898'], 66: ['10999'], 67: ['39131'], 68: ['4089'], 69: ['15764'], 70: ['30011'], 71: ['4927'], 72: ['17947'], 73: ['37627'], 74: ['27682'], 75: ['15194'], 76: ['4900'], 77: ['3975'], 78: ['27510'], 79: ['37237'], 80: ['38216', '38217'], 81: ['25966'], 82: ['27353'], 83: ['4531'], 84: ['20356'], 85: ['3414'], 86: ['37191'], 87: ['37192'], 88: ['4642'], 89: ['38218'], 90: ['37262'], 91: ['19194']}\n",
      "orderclusters [16, 85, 80, 89, 2, 26, 13, 61, 28, 15, 44, 60, 59, 8, 56, 57, 68, 6, 17, 76, 75, 79, 39, 24, 21, 88, 71, 20, 54, 50, 72, 82, 49, 3, 51, 81, 46, 38, 0, 7, 47, 67, 91, 78, 27, 19, 37, 25, 22, 34, 55, 14, 62, 31, 23, 29, 83, 9, 86, 18, 12, 84, 90, 32, 4, 33, 30, 87, 5, 53, 35, 11, 64, 65, 43, 42, 1, 41, 40, 70, 48, 63, 77, 69, 58, 74, 36, 66, 52, 73, 45, 10]\n",
      "taille cluster ######################## 92\n",
      "evaluation ['3407', '3414', '38216', '38218', '38219', '35780', '35884', '4815', '4759', '21221', '4723', '14520', '15973', '30334', '6246', '4946', '4089', '11230', '38265', '4900']\n",
      "ndocs ['38271', '23052', '3090', '3166', '26625', '15405', '19114', '13183', '30869', '30866', '30827', '30828', '3573', '30817', '30822', '30830', '30865', '16638', '30831', '30825', '30824', '20292', '27624', '30826', '3525', '18252', '19113', '27437', '30863', '17836', '30846', '20467', '20262', '11330', '11726', '26709', '21054', '11170', '6379', '9151', '27436', '4849', '10738', '11549', '31072', '9149', '9331', '30845', '18907', '15645', '30829', '30843', '30844', '11855', '4219', '6297', '35644', '13409', '16767', '4224', '35647', '40224', '35646', '38914', '19108', '38739', '38740', '39184', '8489', '25648', '15699', '9696', '16005', '26912', '27503', '2172', '11519', '16928', '3092', '3138', '3560', '6275', '3552', '7564', '9159', '10730', '20282', '24320', '27662', '2285', '2714', '3035', '6267', '6270', '16840', '22235', '23329', '4218', '23908', '23704']\n",
      "aaaaaa {0: ['31072'], 1: ['16767'], 2: ['30826'], 3: ['11330'], 4: ['3560'], 5: ['30866'], 6: ['26912'], 7: ['35647'], 8: ['30831'], 9: ['38914'], 10: ['4219'], 11: ['20467'], 12: ['38739', '38740'], 13: ['3166'], 14: ['11855'], 15: ['27662'], 16: ['21054'], 17: ['20262'], 18: ['19113'], 19: ['30827'], 20: ['18252'], 21: ['9331'], 22: ['11519'], 23: ['23052'], 24: ['27624'], 25: ['9149'], 26: ['9159'], 27: ['4849'], 28: ['27437'], 29: ['9151'], 30: ['20282'], 31: ['27503'], 32: ['40224'], 33: ['13183'], 34: ['23908'], 35: ['19108'], 36: ['20292'], 37: ['9696'], 38: ['3092'], 39: ['6267'], 40: ['16638'], 41: ['17836'], 42: ['3138'], 43: ['19114'], 44: ['11170'], 45: ['4224'], 46: ['6270'], 47: ['15645'], 48: ['3035'], 49: ['27436'], 50: ['6379'], 51: ['30863'], 52: ['16840'], 53: ['18907'], 54: ['26625'], 55: ['13409'], 56: ['2285'], 57: ['3573'], 58: ['2714'], 59: ['11549'], 60: ['30817'], 61: ['8489'], 62: ['6275'], 63: ['38271'], 64: ['4218'], 65: ['23329'], 66: ['3525'], 67: ['10730'], 68: ['30825'], 69: ['25648'], 70: ['10738'], 71: ['3090'], 72: ['30869'], 73: ['24320'], 74: ['23704'], 75: ['30844'], 76: ['30822'], 77: ['6297'], 78: ['16928'], 79: ['35646'], 80: ['15405'], 81: ['16005'], 82: ['22235'], 83: ['35644'], 84: ['15699'], 85: ['7564'], 86: ['30845'], 87: ['30843'], 88: ['30824'], 89: ['2172'], 90: ['30846'], 91: ['39184'], 92: ['30829'], 93: ['30830'], 94: ['26709'], 95: ['30828'], 96: ['30865'], 97: ['11726'], 98: ['3552']}\n",
      "orderclusters [63, 23, 71, 13, 54, 80, 43, 33, 72, 5, 19, 95, 57, 60, 76, 93, 96, 40, 8, 68, 88, 36, 24, 2, 66, 20, 18, 28, 51, 41, 90, 11, 17, 3, 97, 94, 16, 44, 50, 29, 49, 27, 70, 59, 0, 25, 21, 86, 53, 47, 92, 87, 75, 14, 10, 77, 83, 55, 1, 45, 7, 32, 79, 9, 35, 12, 91, 61, 69, 84, 37, 81, 6, 31, 89, 22, 78, 38, 42, 4, 62, 98, 85, 26, 67, 30, 73, 15, 56, 58, 48, 39, 46, 52, 82, 65, 64, 34, 74]\n",
      "taille cluster ######################## 99\n",
      "evaluation ['38271', '23052', '3090', '3166', '26625', '15405', '19114', '13183', '30869', '30866', '30827', '30828', '3573', '30817', '30822', '30830', '30865', '16638', '30831', '30825']\n"
     ]
    },
    {
     "name": "stderr",
     "output_type": "stream",
     "text": [
      "/usr/local/lib/python3.7/site-packages/sklearn/cluster/k_means_.py:968: ConvergenceWarning: Number of distinct clusters (99) found smaller than n_clusters (100). Possibly due to duplicate points in X.\n",
      "  return_n_iter=True)\n"
     ]
    }
   ],
   "source": [
    "res = []\n",
    "perres = []\n",
    "model = ModelBM25(index)\n",
    "#1, 3, 5, 10, 15, 20, 25, 30, 40, 45, 50, 60, 80, 100\n",
    "for i in [100]:\n",
    "    print(i)\n",
    "    kmeans = KMeans(n_clusters= 100, random_state=0, max_iter = 10000)\n",
    "    modelClus = ClusteringModel(index, model, kmeans)\n",
    "    EvalCRn = CRn(modelClus, queries, 20)\n",
    "    res.append(EvalCRn.Evaluation_queries())\n",
    "    \n",
    "    EvalPn = Pn(modelClus, queries, 20)\n",
    "    perres.append(EvalPn.Evaluation_queries())\n",
    "    \n"
   ]
  },
  {
   "cell_type": "code",
   "execution_count": 20,
   "metadata": {},
   "outputs": [
    {
     "data": {
      "text/plain": [
       "True"
      ]
     },
     "execution_count": 20,
     "metadata": {},
     "output_type": "execute_result"
    }
   ],
   "source": [
    "a = ['3407', '3414', '38216', '38217', '38218', '38219', '38221', '38222', '35780', '35884', '35885', '4815', '4759', '21221', '4723', '14520', '15973', '30334', '38898', '39169']\n",
    "b = ['3407', '3414', '38216', '38218', '38219', '35780', '35884', '4815', '4759', '21221', '4723', '14520', '15973', '30334', '6246', '4946', '4089', '11230', '38265', '4900']\n",
    "[i == j for i,j in zip(a,b)]\n",
    "\n",
    "len(a)== len(b)"
   ]
  },
  {
   "cell_type": "code",
   "execution_count": 27,
   "metadata": {},
   "outputs": [
    {
     "data": {
      "text/plain": [
       "100"
      ]
     },
     "execution_count": 27,
     "metadata": {},
     "output_type": "execute_result"
    }
   ],
   "source": [
    "len(['23297', '23959', '38169', '37169', '32866', '37371', '37201', '37353', '37391', '13713', '21420', '37392', '10171', '37202', '37208', '23241', '37387', '13036', '4898', '4945', '37375', '6246', '6636', '8539', '11512', '37386', '8054', '2192', '25570', '10651', '15763', '9199', '11957', '14421', '32870', '15764', '4804', '11415', '37369', '22874', '15809', '17308', '18052', '6857', '19031', '25248', '6946', '31337', '32763', '39625', '40500', '10649', '37402', '15179', '6261', '37374', '16883', '18505', '21976', '6583', '37368', '7750', '6629', '37193', '3788', '17139', '15669', '13039', '37192', '37303', '35621', '16098', '37105', '36023', '36071', '37106', '37050', '37212', '38739', '38740', '37378', '17947', '15827', '37365', '23632', '37310', '37380', '37385', '39719', '32861', '4927', '6973', '37366', '40357', '40426', '5109', '19115', '37376', '4948', '38216'])"
   ]
  },
  {
   "cell_type": "code",
   "execution_count": 7,
   "metadata": {},
   "outputs": [
    {
     "name": "stdout",
     "output_type": "stream",
     "text": [
      "[0.6166666666666667, 0.6583333333333333] [0.4666666666666666, 0.48333333333333334]\n"
     ]
    }
   ],
   "source": [
    "print(res, perres)"
   ]
  },
  {
   "cell_type": "code",
   "execution_count": 16,
   "metadata": {},
   "outputs": [
    {
     "data": {
      "image/png": "[encoded data removed]",
      "text/plain": [
       "<Figure size 720x504 with 1 Axes>"
      ]
     },
     "metadata": {
      "needs_background": "light"
     },
     "output_type": "display_data"
    },
    {
     "name": "stdout",
     "output_type": "stream",
     "text": [
      "[0.4666666666666666, 0.3666666666666667, 0.31666666666666665, 0.2833333333333333, 0.3333333333333333, 0.25, 0.31666666666666665, 0.26666666666666666, 0.26666666666666666, 0.31666666666666665, 0.2833333333333333, 0.31666666666666665, 0.4333333333333333, 0.48333333333333334] [0.6166666666666667, 0.6166666666666667, 0.6583333333333333, 0.4916666666666667, 0.5583333333333333, 0.4916666666666667, 0.5583333333333333, 0.5333333333333333, 0.5750000000000001, 0.6166666666666667, 0.6166666666666667, 0.5750000000000001, 0.6583333333333333, 0.6583333333333333]\n"
     ]
    }
   ],
   "source": [
    "plt.figure(figsize=(10,7))\n",
    "plt.plot(perres, c=\"red\", label=\"CR@20\")\n",
    "plt.title(\"Courble CR@20 avec nbre docs = 100\")\n",
    "plt.legend()\n",
    "plt.show()\n",
    "print(perres)"
   ]
  },
  {
   "cell_type": "code",
   "execution_count": 11,
   "metadata": {},
   "outputs": [
    {
     "data": {
      "text/plain": [
       "[<matplotlib.lines.Line2D at 0x1131a50b8>]"
      ]
     },
     "execution_count": 11,
     "metadata": {},
     "output_type": "execute_result"
    },
    {
     "data": {
      "image/png": "[encoded data removed]",
      "text/plain": [
       "<Figure size 432x288 with 1 Axes>"
      ]
     },
     "metadata": {
      "needs_background": "light"
     },
     "output_type": "display_data"
    }
   ],
   "source": [
    "\n",
    "plt.plot(r)\n",
    "plt.plot(p)\n"
   ]
  },
  {
   "cell_type": "code",
   "execution_count": 76,
   "metadata": {},
   "outputs": [
    {
     "data": {
      "text/plain": [
       "[<matplotlib.lines.Line2D at 0x11f159d68>]"
      ]
     },
     "execution_count": 76,
     "metadata": {},
     "output_type": "execute_result"
    },
    {
     "data": {
      "image/png": "[encoded data removed]",
      "text/plain": [
       "<Figure size 432x288 with 1 Axes>"
      ]
     },
     "metadata": {
      "needs_background": "light"
     },
     "output_type": "display_data"
    }
   ],
   "source": [
    "\n",
    "plt.plot(perres)\n",
    "\"c normal car j'ai pris le rang commme parametre et l commence par 0 \""
   ]
  },
  {
   "cell_type": "code",
   "execution_count": 6,
   "metadata": {},
   "outputs": [
    {
     "data": {
      "text/plain": [
       "[<matplotlib.lines.Line2D at 0x11ac634a8>]"
      ]
     },
     "execution_count": 6,
     "metadata": {},
     "output_type": "execute_result"
    },
    {
     "data": {
      "image/png": "[encoded data removed]",
      "text/plain": [
       "<Figure size 432x288 with 1 Axes>"
      ]
     },
     "metadata": {
      "needs_background": "light"
     },
     "output_type": "display_data"
    }
   ],
   "source": [
    "plt.plot(res)\n"
   ]
  },
  {
   "cell_type": "code",
   "execution_count": 25,
   "metadata": {},
   "outputs": [],
   "source": [
    "kmeans = KMeans(n_clusters= 80, random_state=0)\n",
    "model = ModelBM25(index)\n",
    "modelClus = ClusteringModel(index, model, kmeans, 400)"
   ]
  },
  {
   "cell_type": "code",
   "execution_count": null,
   "metadata": {},
   "outputs": [],
   "source": []
  },
  {
   "cell_type": "code",
   "execution_count": 10,
   "metadata": {},
   "outputs": [
    {
     "data": {
      "text/plain": [
       "0.5012820512820512"
      ]
     },
     "execution_count": 10,
     "metadata": {},
     "output_type": "execute_result"
    }
   ],
   "source": [
    "Evalpn = Pn(modelClus, queries, 20)\n",
    "Evalpn.Evaluation_queries()"
   ]
  },
  {
   "cell_type": "code",
   "execution_count": 26,
   "metadata": {},
   "outputs": [
    {
     "name": "stdout",
     "output_type": "stream",
     "text": [
      "in boucle 37169\n",
      "in boucle 32866\n",
      "in boucle 37371\n",
      "in boucle 37353\n",
      "in boucle 37392\n",
      "in boucle 37387\n",
      "in boucle 37375\n",
      "subThemes [2, 4, 1, 1, 1, 1, 1]\n",
      "###docs ['23297', '23959', '38169', '37169', '32866', '37371', '37201', '37353', '37391', '13713', '21420', '37392', '10171', '37208', '23241', '37387', '13036', '4898', '4945', '37375']\n",
      "documents in requette dict_keys(['37353', '37368', '37371', '37374', '37375', '37376', '37386', '37387', '37392', '37369', '37393', '37394', '37169', '37194', '37204', '37191', '37192', '31337', '40500', '32763', '32866', '32870', '39625', '37303'])\n",
      "sousThemes {1, 2, 3, 4, 5}\n",
      "########################result 0.6\n",
      "in boucle 35780\n",
      "in boucle 4815\n",
      "in boucle 4759\n",
      "in boucle 14520\n",
      "in boucle 15973\n",
      "in boucle 4900\n",
      "subThemes [7, 1, 8, 8, 1, 4]\n",
      "###docs ['3407', '38216', '35780', '35884', '4815', '4759', '21221', '4723', '14520', '15973', '30334', '6246', '4946', '4089', '11230', '38265', '4900', '15194', '37237', '2858']\n",
      "documents in requette dict_keys(['4815', '15973', '16819', '36036', '36035', '30011', '19135', '4533', '28', '3147', '19211', '4900', '25966', '19259', '10999', '19194', '23108', '16993', '19198', '4531', '6501', '4895', '20357', '10657', '4896', '20356', '35678', '35783', '35782', '15330', '35780', '14520', '22777', '4759'])\n",
      "sousThemes {1, 2, 3, 4, 5, 6, 7, 8}\n",
      "########################result 0.5\n",
      "in boucle 38271\n",
      "in boucle 3090\n",
      "in boucle 3166\n",
      "in boucle 26625\n",
      "in boucle 15405\n",
      "in boucle 13183\n",
      "in boucle 30869\n",
      "in boucle 30866\n",
      "in boucle 30827\n",
      "in boucle 30817\n",
      "in boucle 30822\n",
      "in boucle 16638\n",
      "in boucle 30824\n",
      "subThemes [8, 5, 4, 2, 3, 6, 3, 3, 3, 3, 3, 1, 3]\n",
      "###docs ['38271', '23052', '3090', '3166', '26625', '15405', '19114', '13183', '30869', '30866', '30827', '3573', '30817', '30822', '16638', '30824', '20292', '27624', '3525', '18252']\n",
      "documents in requette dict_keys(['4975', '10738', '6342', '4969', '16638', '19108', '9149', '15172', '8458', '26625', '2764', '3660', '6556', '4993', '4979', '13170', '37447', '37448', '37449', '37450', '30828', '4219', '15405', '15645', '30817', '30827', '30829', '30843', '30844', '30845', '30865', '30866', '30869', '30824', '30825', '30822', '30830', '30831', '30826', '6297', '30846', '30863', '2913', '5011', '5012', '6294', '3166', '3248', '30867', '30868', '4218', '2285', '2007', '3090', '1515', '30783', '31072', '15027', '13183', '16952', '12608', '38269', '38270', '38271'])\n",
      "sousThemes {1, 2, 3, 4, 5, 6, 7, 8}\n",
      "########################result 0.875\n"
     ]
    },
    {
     "name": "stderr",
     "output_type": "stream",
     "text": [
      "/usr/local/lib/python3.7/site-packages/sklearn/cluster/k_means_.py:968: ConvergenceWarning: Number of distinct clusters (75) found smaller than n_clusters (80). Possibly due to duplicate points in X.\n",
      "  return_n_iter=True)\n"
     ]
    },
    {
     "name": "stdout",
     "output_type": "stream",
     "text": [
      "in boucle 37567\n",
      "in boucle 37603\n",
      "in boucle 37761\n",
      "in boucle 37786\n",
      "in boucle 37789\n",
      "in boucle 37790\n",
      "in boucle 37765\n",
      "in boucle 38160\n",
      "in boucle 37788\n",
      "in boucle 37735\n",
      "in boucle 37627\n",
      "in boucle 37568\n",
      "in boucle 37601\n",
      "in boucle 37667\n",
      "in boucle 37677\n",
      "in boucle 37595\n",
      "in boucle 37602\n",
      "in boucle 37576\n",
      "in boucle 37535\n",
      "in boucle 37743\n",
      "subThemes [1, 3, 4, 5, 5, 5, 4, 9, 5, 2, 3, 1, 3, 2, 2, 3, 3, 1, 1, 4]\n",
      "###docs ['37567', '37603', '37761', '37786', '37789', '37790', '37765', '38160', '37788', '37735', '37627', '37568', '37601', '37667', '37677', '37595', '37602', '37576', '37535', '37743']\n",
      "documents in requette dict_keys(['37535', '37567', '37568', '37569', '37576', '37588', '37589', '37591', '37646', '37657', '37660', '37661', '37663', '37665', '37667', '37668', '37675', '37677', '37678', '37710', '37712', '37713', '37714', '37715', '37717', '37718', '37719', '37720', '37721', '37722', '37723', '37730', '37731', '37735', '37737', '37739', '37595', '37596', '37597', '37599', '37601', '37602', '37603', '37604', '37606', '37609', '37610', '37618', '37626', '37627', '37631', '37632', '37633', '37636', '37642', '37743', '37744', '37746', '37747', '37748', '37749', '37751', '37752', '37753', '37755', '37761', '37765', '37786', '37788', '37789', '37790', '37772', '37773', '37774', '37803', '37836', '37515', '37516', '37530', '38007', '38006', '38014', '38013', '38012', '38160', '38137', '37798'])\n",
      "sousThemes {1, 2, 3, 4, 5, 6, 7, 8, 9, 10}\n",
      "########################result 0.6\n",
      "in boucle 21324\n",
      "in boucle 21256\n",
      "in boucle 4089\n",
      "in boucle 21212\n",
      "in boucle 21222\n",
      "in boucle 27619\n",
      "in boucle 4082\n",
      "in boucle 21221\n",
      "in boucle 27679\n",
      "in boucle 21252\n",
      "in boucle 27621\n",
      "subThemes [13, 13, 2, 18, 7, 7, 13, 7, 23, 13, 1]\n",
      "###docs ['21324', '3147', '21256', '9595', '4089', '21212', '21222', '37244', '11629', '27619', '13594', '37896', '7043', '13546', '4946', '4082', '21221', '27679', '21252', '27621']\n",
      "documents in requette dict_keys(['27651', '27652', '27644', '27645', '27621', '27649', '27650', '4070', '4084', '4085', '21223', '21213', '4087', '27508', '4089', '25396', '4048', '27436', '27688', '27681', '27682', '27684', '27673', '27680', '27441', '27357', '27665', '27672', '27615', '27442', '27670', '27671', '21221', '4049', '21207', '27618', '21209', '21222', '27351', '27619', '21218', '27506', '27637', '27641', '27642', '27643', '27689', '27690', '27437', '27691', '27638', '27635', '27639', '27640', '4078', '27434', '27627', '27435', '27514', '27515', '4077', '4052', '4050', '4064', '27624', '4083', '4067', '4074', '4095', '21256', '21319', '21327', '27320', '27322', '27353', '27354', '27630', '4082', '4080', '21321', '27511', '21324', '21225', '27509', '21252', '4054', '27510', '27664', '27662', '27663', '27686', '27440', '21054', '27324', '21212', '27439', '27685', '27687', '27503', '27676', '27677', '27679'])\n",
      "sousThemes {1, 2, 3, 4, 5, 6, 7, 8, 9, 10, 11, 12, 13, 14, 15, 16, 17, 18, 19, 20, 21, 22, 23}\n",
      "########################result 0.2608695652173913\n",
      "subThemes []\n",
      "###docs ['4283', '37353', '37392', '18651', '37191', '10081', '3185', '25661', '26443', '16475', '4565', '3545', '31295', '19031', '24202', '2470', '3295', '19280', '4448', '4349']\n",
      "documents in requette dict_keys(['37269', '37272', '37273', '37274', '37286', '37287', '37290', '37291', '37293', '37295', '37298', '37299', '37300', '37297', '37359', '37402', '37403', '37354', '37365', '37388', '37405', '37369', '37393', '37394', '37312', '37313', '37315', '37319', '37324', '37325', '37326', '37323', '37171', '37177', '37180', '37196', '37201', '37202', '37212', '37237', '37239', '37242', '37244', '37250', '37305', '37306', '37309', '37310', '37222', '37224', '37226', '37218', '37214', '37213', '37227', '37228', '37229', '37220', '37261', '37262', '37339', '37337', '37265', '37267', '37268'])\n",
      "sousThemes {1, 2, 3, 4, 5, 6, 7, 8}\n",
      "########################result 0.0\n",
      "in boucle 31499\n",
      "in boucle 18651\n",
      "in boucle 32036\n",
      "in boucle 31643\n",
      "in boucle 31516\n",
      "in boucle 32457\n",
      "in boucle 31620\n",
      "in boucle 31518\n",
      "in boucle 31616\n",
      "in boucle 31617\n",
      "in boucle 31622\n",
      "in boucle 31674\n",
      "in boucle 32038\n",
      "subThemes [3, 3, 1, 2, 2, 2, 2, 2, 2, 2, 2, 2, 1]\n",
      "###docs ['31499', '18651', '32036', '38227', '38224', '38226', '31643', '31702', '31516', '32457', '31620', '31680', '31518', '31616', '31396', '31617', '32479', '31622', '31674', '32038']\n",
      "documents in requette dict_keys(['32042', '32029', '32030', '32031', '32034', '32035', '32036', '32038', '32039', '32040', '9623', '31516', '31616', '31620', '31628', '31643', '31644', '32453', '32457', '31510', '31512', '31514', '31515', '31518', '31617', '31622', '31623', '31624', '31625', '31627', '31674', '32454', '32465', '18651', '31499', '31497'])\n",
      "sousThemes {1, 2, 3}\n",
      "########################result 1.0\n",
      "in boucle 26718\n",
      "in boucle 26629\n",
      "in boucle 26524\n",
      "in boucle 1967\n",
      "in boucle 13547\n",
      "subThemes [1, 1, 5, 2, 4]\n",
      "###docs ['26718', '26629', '26524', '16098', '4036', '3158', '5109', '2858', '1967', '13547', '3360', '1313', '4931', '4927', '17947', '1134', '23241', '1327', '20918', '19115']\n",
      "documents in requette dict_keys(['15905', '15907', '16904', '17198', '17388', '20514', '20517', '20923', '20924', '21306', '21307', '22157', '2295', '2297', '25207', '25208', '25209', '25211', '25212', '25214', '25227', '25228', '25229', '25231', '26629', '26631', '26718', '26720', '26721', '26845', '4116', '661', '662', '690', '728', '7407', '7426', '7714', '7728', '8741', '8834', '1955', '1960', '1965', '1966', '1967', '1969', '1972', '13290', '13293', '26531', '13546', '13547', '13577', '15919', '13673', '26524', '26589', '2675', '2677', '15767', '16079', '16087', '18030', '26712', '19051', '23700', '3260', '3262', '26273'])\n",
      "sousThemes {1, 2, 3, 4, 5, 6, 7, 8, 9}\n",
      "########################result 0.4444444444444444\n",
      "in boucle 8054\n",
      "in boucle 23632\n",
      "in boucle 9199\n",
      "in boucle 23959\n",
      "in boucle 4642\n",
      "in boucle 6857\n",
      "in boucle 4901\n",
      "in boucle 10649\n",
      "in boucle 14421\n",
      "in boucle 15809\n",
      "in boucle 18505\n",
      "in boucle 6629\n",
      "in boucle 17308\n",
      "in boucle 18052\n",
      "subThemes [1, 3, 2, 1, 5, 1, 4, 6, 2, 2, 4, 7, 1, 1]\n",
      "###docs ['8054', '23632', '9199', '23959', '4642', '6857', '4901', '10649', '14421', '15809', '18505', '6629', '37072', '35878', '23297', '40517', '15657', '8489', '17308', '18052']\n",
      "documents in requette dict_keys(['17308', '18052', '19031', '22874', '23959', '6857', '7947', '8054', '8539', '9769', '11512', '11957', '6946', '14421', '15809', '15827', '6636', '9199', '23632', '18505', '4901', '4642', '4812', '10649', '6629'])\n",
      "sousThemes {1, 2, 3, 4, 5, 6, 7}\n",
      "########################result 1.0\n",
      "in boucle 38096\n",
      "in boucle 38117\n",
      "in boucle 38046\n",
      "in boucle 38230\n",
      "in boucle 38224\n",
      "in boucle 38227\n",
      "in boucle 38121\n",
      "in boucle 38223\n",
      "in boucle 38038\n",
      "in boucle 38161\n",
      "subThemes [18, 8, 7, 2, 2, 2, 10, 2, 1, 9]\n",
      "###docs ['38096', '38117', '38129', '38046', '4898', '22777', '37274', '38230', '38224', '38227', '4723', '38121', '38223', '13594', '38038', '38271', '6973', '18505', '38161', '5109']\n",
      "documents in requette dict_keys(['38038', '38036', '38086', '38033', '38150', '38230', '38227', '38224', '38225', '38223', '38226', '38231', '38216', '38217', '38218', '38219', '38221', '38222', '38034', '38263', '38035', '38169', '38059', '38043', '38045', '38046', '38041', '38042', '38044', '38052', '38053', '38054', '38117', '38118', '38161', '38140', '38152', '38160', '38121', '38124', '38265', '38040', '38167', '38264', '38166', '38133', '38144', '38146', '38087', '38096', '38077', '38073', '38182', '38084', '38068', '38174'])\n",
      "sousThemes {1, 2, 3, 4, 5, 6, 7, 8, 9, 10, 11, 12, 13, 14, 15, 16, 17, 18, 19, 20, 21, 22, 23}\n",
      "########################result 0.30434782608695654\n",
      "in boucle 17876\n",
      "in boucle 20124\n",
      "in boucle 3295\n",
      "in boucle 32756\n",
      "in boucle 33459\n",
      "in boucle 19317\n",
      "in boucle 3210\n",
      "in boucle 31217\n",
      "in boucle 31090\n",
      "in boucle 20467\n",
      "in boucle 24177\n",
      "in boucle 33457\n",
      "in boucle 30667\n",
      "in boucle 39623\n",
      "in boucle 39447\n",
      "in boucle 6376\n",
      "in boucle 3269\n",
      "in boucle 10081\n",
      "subThemes [1, 1, 6, 10, 2, 1, 3, 4, 8, 1, 1, 2, 7, 10, 2, 1, 5, 1]\n",
      "###docs ['27663', '17876', '20124', '3295', '32756', '33459', '19317', '3210', '31217', '31090', '20467', '24177', '33457', '30667', '39623', '39447', '6376', '3269', '4218', '10081']\n",
      "documents in requette dict_keys(['10639', '6376', '10081', '17876', '10281', '17550', '24259', '19317', '20467', '24177', '20124', '33459', '33457', '33464', '39447', '3210', '25960', '31172', '31217', '3269', '3270', '3295', '30667', '31090', '4027', '39623', '32756'])\n",
      "sousThemes {1, 2, 3, 4, 5, 6, 7, 8, 9, 10}\n",
      "########################result 0.9\n"
     ]
    },
    {
     "name": "stdout",
     "output_type": "stream",
     "text": [
      "in boucle 35795\n",
      "in boucle 35792\n",
      "in boucle 35794\n",
      "in boucle 35793\n",
      "in boucle 15400\n",
      "in boucle 4036\n",
      "in boucle 35869\n",
      "in boucle 38198\n",
      "in boucle 35868\n",
      "in boucle 3360\n",
      "in boucle 38192\n",
      "in boucle 38224\n",
      "in boucle 38194\n",
      "in boucle 26090\n",
      "in boucle 38223\n",
      "subThemes [1, 1, 1, 1, 3, 7, 1, 2, 1, 3, 2, 2, 2, 5, 2]\n",
      "###docs ['35795', '35792', '35794', '35793', '15400', '4036', '35869', '38198', '35868', '3360', '38192', '38224', '31702', '38194', '31431', '16098', '31643', '26090', '38223', '31620']\n",
      "documents in requette dict_keys(['35792', '35793', '35794', '35795', '35867', '35868', '35869', '35870', '35871', '35807', '35811', '35812', '35866', '35874', '35788', '35789', '38192', '38194', '38197', '38198', '38199', '38200', '38144', '38223', '38224', '38225', '38226', '38227', '11015', '15400', '19260', '24385', '3360', '3362', '30015', '30016', '30017', '11584', '17362', '26090', '37357', '37406', '4036', '18651', '15595'])\n",
      "sousThemes {1, 2, 3, 4, 5, 6, 7, 8, 9}\n",
      "########################result 0.5555555555555556\n",
      "in boucle 4036\n",
      "in boucle 26090\n",
      "in boucle 31431\n",
      "in boucle 35789\n",
      "in boucle 39367\n",
      "in boucle 30500\n",
      "in boucle 31430\n",
      "in boucle 40328\n",
      "subThemes [5, 3, 1, 2, 1, 1, 1, 1]\n",
      "###docs ['35795', '35792', '35794', '35793', '15400', '4036', '3360', '16098', '26090', '26718', '31702', '31431', '35789', '15595', '39367', '30500', '31430', '40328', '3158', '19260']\n",
      "documents in requette dict_keys(['30500', '30501', '30502', '30504', '30505', '30506', '30507', '30508', '31389', '31394', '31395', '31396', '31398', '31429', '31430', '31431', '31481', '31486', '31487', '32864', '39358', '39367', '39490', '39577', '39587', '39589', '40322', '40325', '40326', '40328', '40357', '40426', '40427', '40515', '40517', '40542', '40553', '40568', '40569', '40570', '40571', '35808', '35807', '35811', '35812', '35866', '35874', '35788', '35789', '11584', '17362', '26090', '37357', '37406', '4036', '38144'])\n",
      "sousThemes {1, 2, 3, 4, 5, 6}\n",
      "########################result 0.6666666666666666\n",
      "in boucle 4849\n",
      "in boucle 6267\n",
      "in boucle 3193\n",
      "in boucle 3545\n",
      "in boucle 8489\n",
      "subThemes [16, 20, 14, 9, 13]\n",
      "###docs ['4849', '6267', '3193', '3545', '8971', '728', '2277', '11330', '3185', '4241', '13547', '4325', '26442', '31499', '18651', '16475', '8489', '19031', '2470', '10081']\n",
      "documents in requette dict_keys(['17843', '4570', '6288', '10811', '16574', '16944', '16954', '3640', '3643', '6292', '9144', '9556', '4565', '6266', '6284', '6447', '7034', '8298', '11172', '11224', '11269', '2024', '6639', '12755', '11481', '4991', '15027', '3625', '40675', '4234', '1690', '9584', '15969', '25543', '25541', '26911', '7060', '18942', '4022', '10965', '25674', '3138', '40224', '40688', '18492', '3545', '3636', '7564', '9159', '9334', '10729', '27050', '6270', '6271', '2290', '9402', '3895', '10730', '4224', '8489', '15382', '4860', '3193', '4856', '4849', '2284', '16949', '6275', '6267', '27054', '16840'])\n",
      "sousThemes {1, 2, 3, 4, 5, 6, 7, 8, 9, 10, 11, 12, 13, 14, 15, 16, 17, 18, 19, 20, 21, 22}\n",
      "########################result 0.22727272727272727\n",
      "in boucle 26098\n",
      "in boucle 4319\n",
      "in boucle 4294\n",
      "in boucle 4241\n",
      "in boucle 4285\n",
      "in boucle 4291\n",
      "in boucle 4296\n",
      "in boucle 4299\n",
      "in boucle 4287\n",
      "in boucle 4344\n",
      "in boucle 19047\n",
      "in boucle 22408\n",
      "in boucle 26043\n",
      "in boucle 4289\n",
      "in boucle 19284\n",
      "in boucle 4288\n",
      "in boucle 4297\n",
      "in boucle 4302\n",
      "in boucle 4463\n",
      "subThemes [2, 5, 7, 2, 1, 7, 2, 1, 1, 1, 4, 3, 6, 1, 3, 1, 2, 2, 2]\n",
      "###docs ['26098', '4319', '4294', '4241', '4285', '4291', '4296', '4299', '4287', '4344', '19047', '22408', '26043', '4289', '19284', '1313', '4288', '4297', '4302', '4463']\n",
      "documents in requette dict_keys(['1543', '18814', '18817', '4282', '4283', '4284', '4285', '4287', '4288', '4289', '4298', '4299', '4300', '4337', '4341', '4342', '4344', '4347', '4349', '16091', '26098', '4241', '4244', '4296', '4297', '4302', '4304', '4331', '4334', '4448', '4451', '4454', '4457', '4460', '4463', '19280', '19284', '19287', '19290', '19311', '22403', '22408', '26438', '26442', '26443', '26450', '17382', '17385', '17387', '19047', '20528', '23150', '24741', '24766', '26685', '4307', '4313', '4316', '4319', '4325', '25750', '26028', '26043', '4291', '4294', '4295', '14412', '15930', '14384'])\n",
      "sousThemes {1, 2, 3, 4, 5, 6, 7, 8}\n",
      "########################result 0.875\n",
      "in boucle 37508\n",
      "in boucle 37529\n",
      "in boucle 37515\n",
      "in boucle 37504\n",
      "in boucle 37528\n",
      "in boucle 37501\n",
      "in boucle 37502\n",
      "in boucle 37518\n",
      "in boucle 37527\n",
      "in boucle 37530\n",
      "in boucle 37506\n",
      "in boucle 37532\n",
      "in boucle 37510\n",
      "in boucle 37534\n",
      "in boucle 37507\n",
      "in boucle 37520\n",
      "in boucle 37509\n",
      "subThemes [1, 1, 1, 1, 1, 1, 1, 1, 1, 1, 1, 1, 1, 1, 1, 1, 1]\n",
      "###docs ['37508', '6222', '38084', '37529', '37515', '37504', '37528', '37501', '37502', '37518', '37527', '37530', '37506', '37532', '37510', '37534', '37507', '37520', '37509', '32151']\n",
      "documents in requette dict_keys(['37493', '37497', '37496', '37499', '37498', '37500', '37502', '37506', '37518', '37519', '37411', '37416', '37417', '37420', '37477', '37478', '37483', '37488', '37489', '37510', '37511', '37513', '37520', '37521', '37531', '37533', '38004', '38005', '38008', '38009', '38011', '38015', '38016', '38019', '38020', '38021', '38024', '38027', '38028', '38029', '38030', '37530', '38006', '38007', '38012', '38013', '38014', '37508', '37529', '37501', '37504', '37527', '37528', '37534', '37507', '37509', '37532', '37515', '37516', '38246', '38247', '38245', '38244', '38241', '38242', '38193', '38192', '38194', '38200', '38198', '38197', '38199', '38103', '38129', '38096', '38230', '38227', '38224', '38225', '38223', '38226'])\n",
      "sousThemes {1, 2, 3, 4, 5}\n",
      "########################result 0.2\n",
      "in boucle 37182\n",
      "in boucle 37193\n",
      "subThemes [3, 3]\n",
      "###docs ['37218', '37228', '37227', '37267', '11089', '37295', '6457', '37291', '19374', '37214', '37287', '2719', '37305', '9722', '37180', '37182', '37196', '37237', '37193', '37202']\n",
      "documents in requette dict_keys(['37355', '37356', '37358', '37366', '37372', '37378', '37379', '37380', '37382', '37383', '37384', '37385', '37389', '37390', '37391', '37354', '37365', '37368', '37371', '37374', '37375', '37376', '37386', '37387', '37388', '37392', '37405', '37369', '37393', '37394', '34129', '34130', '34131', '34133', '34134', '34135', '34136', '34137', '34138', '34139', '34140', '34143', '34153', '34154', '34156', '34157', '34158', '34162', '34164', '34165', '34166', '37172', '37182', '37184', '37186', '37193', '37208', '37191', '37192', '37167'])\n",
      "sousThemes {1, 2, 3, 4}\n",
      "########################result 0.25\n",
      "in boucle 13036\n",
      "in boucle 4898\n",
      "in boucle 4927\n",
      "in boucle 6973\n",
      "in boucle 6246\n",
      "in boucle 11230\n",
      "in boucle 15764\n",
      "in boucle 4511\n",
      "in boucle 4900\n",
      "in boucle 4948\n",
      "in boucle 15194\n",
      "in boucle 15763\n",
      "in boucle 4931\n",
      "in boucle 4946\n",
      "subThemes [1, 1, 1, 1, 5, 1, 4, 2, 1, 2, 1, 4, 1, 2]\n",
      "###docs ['13036', '23241', '2192', '23959', '4898', '4927', '6973', '6246', '11230', '15764', '4511', '4900', '4948', '38169', '15194', '15763', '4931', '4946', '37169', '23297']\n",
      "documents in requette dict_keys(['10171', '13036', '15179', '15669', '16883', '17139', '17711', '20484', '21976', '24227', '25570', '3736', '4898', '6973', '11230', '15194', '18505', '4901', '4927', '4931', '4900', '10651', '11629', '4511', '4944', '4945', '4946', '4948', '10649', '10655', '11415', '25248', '4804', '4642', '4812', '13039', '15763', '15764', '3788', '6261', '6246'])\n",
      "sousThemes {1, 2, 3, 4, 5}\n",
      "########################result 0.8\n",
      "in boucle 32677\n",
      "in boucle 32676\n",
      "in boucle 39693\n",
      "in boucle 39714\n",
      "in boucle 39684\n",
      "in boucle 39610\n",
      "in boucle 39570\n",
      "in boucle 39707\n",
      "in boucle 32861\n",
      "in boucle 32695\n",
      "in boucle 32760\n",
      "in boucle 39629\n",
      "in boucle 39630\n",
      "in boucle 39706\n",
      "in boucle 39696\n",
      "in boucle 32766\n",
      "in boucle 39686\n",
      "in boucle 32890\n",
      "in boucle 39694\n",
      "in boucle 32891\n",
      "subThemes [2, 2, 2, 1, 2, 2, 2, 1, 1, 2, 3, 1, 1, 1, 1, 2, 2, 2, 2, 2]\n",
      "###docs ['32677', '32676', '39693', '39714', '39684', '39610', '39570', '39707', '32861', '32695', '32760', '39629', '39630', '39706', '39696', '32766', '39686', '32890', '39694', '32891']\n",
      "documents in requette dict_keys(['32799', '32797', '32798', '39707', '32677', '32738', '39611', '39711', '32698', '32813', '39629', '39630', '39687', '39701', '39706', '32676', '39684', '39696', '39714', '32861', '39698', '32766', '32816', '32890', '39628', '39686', '39695', '39699', '32695', '32767', '32824', '32891', '39570', '39610', '39613', '39693', '39694', '39708', '32760', '39624'])\n",
      "sousThemes {1, 2, 3}\n",
      "########################result 1.0\n"
     ]
    },
    {
     "name": "stdout",
     "output_type": "stream",
     "text": [
      "in boucle 12236\n",
      "in boucle 22373\n",
      "in boucle 22539\n",
      "in boucle 3903\n",
      "in boucle 22541\n",
      "in boucle 9510\n",
      "in boucle 6204\n",
      "in boucle 12231\n",
      "in boucle 3905\n",
      "in boucle 25486\n",
      "in boucle 6242\n",
      "in boucle 6222\n",
      "in boucle 12659\n",
      "in boucle 3726\n",
      "in boucle 26050\n",
      "in boucle 6514\n",
      "in boucle 3802\n",
      "in boucle 8131\n",
      "subThemes [6, 7, 7, 4, 7, 1, 8, 3, 5, 7, 1, 1, 7, 4, 1, 1, 4, 1]\n",
      "###docs ['12236', '22373', '22539', '3903', '22541', '9510', '6204', '12231', '3905', '25486', '6242', '21515', '23398', '6222', '12659', '3726', '26050', '6514', '3802', '8131']\n",
      "documents in requette dict_keys(['6222', '11828', '3803', '7508', '10175', '14194', '3741', '6241', '17955', '11233', '13126', '14160', '15672', '20479', '3615', '3759', '3811', '3812', '6242', '6265', '6514', '6979', '7507', '8131', '9510', '3726', '8184', '14197', '16886', '16889', '17958', '26050', '8852', '1134', '20918', '20914', '18497', '6209', '20912', '12231', '3903', '6225', '8284', '3802', '3887', '21522', '9064', '9382', '6234', '3905', '12236', '26057', '25486', '11452', '12659', '22373', '22539', '22541', '6204', '3901', '6253', '11451'])\n",
      "sousThemes {1, 2, 3, 4, 5, 6, 7, 8, 9, 10}\n",
      "########################result 0.7\n",
      "in boucle 8971\n",
      "in boucle 7734\n",
      "in boucle 8672\n",
      "in boucle 16576\n",
      "in boucle 23994\n",
      "in boucle 25312\n",
      "in boucle 30584\n",
      "in boucle 7178\n",
      "subThemes [1, 1, 1, 2, 1, 1, 3, 1]\n",
      "###docs ['8971', '7734', '8672', '2470', '4027', '6460', '16576', '23994', '9671', '13331', '25312', '18651', '30584', '7178', '10098', '9064', '18054', '10728', '11108', '24924']\n",
      "documents in requette dict_keys(['10344', '10896', '11140', '11511', '11520', '11549', '13135', '13672', '13797', '14451', '14855', '15458', '16165', '16384', '16620', '17027', '17929', '18038', '18287', '19527', '19534', '19705', '21956', '23304', '23994', '24275', '25312', '26614', '6816', '6821', '6923', '7146', '7176', '7178', '7295', '7383', '7403', '7484', '7734', '7849', '7866', '7963', '7970', '8167', '8426', '8486', '8662', '8672', '8971', '8975', '9261', '9625', '9890', '10733', '12649', '12957', '15009', '18733', '18945', '8462', '9585', '10810', '14126', '14819', '9331', '14844', '16576', '30619', '32214', '30560', '30561', '30584', '16086', '7133', '15379', '22298', '37899'])\n",
      "sousThemes {1, 2, 3, 4, 5, 6, 7}\n",
      "########################result 0.42857142857142855\n",
      "in boucle 3525\n",
      "in boucle 25648\n",
      "in boucle 13409\n",
      "in boucle 16767\n",
      "in boucle 16928\n",
      "in boucle 9696\n",
      "in boucle 38914\n",
      "in boucle 2172\n",
      "in boucle 3092\n",
      "in boucle 3560\n",
      "in boucle 20282\n",
      "in boucle 24320\n",
      "in boucle 2714\n",
      "in boucle 3035\n",
      "in boucle 22235\n",
      "in boucle 23329\n",
      "in boucle 23908\n",
      "in boucle 23704\n",
      "in boucle 26555\n",
      "subThemes [8, 1, 8, 5, 1, 8, 8, 8, 8, 6, 1, 8, 8, 8, 1, 1, 8, 1, 1]\n",
      "###docs ['3525', '25648', '13409', '16767', '16928', '9696', '38914', '2172', '3092', '3560', '20282', '24320', '2714', '3035', '22235', '23329', '23908', '27436', '23704', '26555']\n",
      "documents in requette dict_keys(['8575', '8666', '12495', '1533', '8939', '9901', '13930', '10799', '11507', '11648', '12097', '13214', '15075', '1531', '16305', '19575', '5142', '5155', '6401', '7430', '7654', '8326', '11897', '13558', '1532', '7346', '7705', '7856', '7995', '15964', '8035', '15699', '16005', '25648', '26912', '16928', '23329', '6500', '9544', '22235', '23704', '26555', '11269', '2024', '6639', '12755', '20282', '39516', '39513', '39514', '39515', '5039', '6924', '39519', '3864', '13183', '3138', '17836', '16767', '3552', '3560', '11734', '38914', '38915', '38916', '35624', '11519', '2814', '1581', '3092', '6583', '2714', '23908', '39184', '24202', '13409', '24320', '9696', '21420', '24412', '23297', '37895', '3525', '9151', '3035', '38925', '2172'])\n",
      "sousThemes {1, 2, 3, 4, 5, 6, 7, 8}\n",
      "########################result 0.5\n",
      "in boucle 8552\n",
      "in boucle 8194\n",
      "in boucle 8763\n",
      "in boucle 21808\n",
      "in boucle 7998\n",
      "in boucle 7682\n",
      "in boucle 7783\n",
      "in boucle 6862\n",
      "in boucle 6944\n",
      "in boucle 8761\n",
      "in boucle 19101\n",
      "in boucle 13651\n",
      "in boucle 12132\n",
      "in boucle 12992\n",
      "in boucle 16341\n",
      "subThemes [4, 3, 4, 1, 4, 4, 4, 4, 4, 4, 2, 4, 4, 4, 2]\n",
      "###docs ['8552', '8194', '8763', '21808', '7998', '7682', '7783', '6862', '6944', '10719', '8761', '19101', '13651', '10882', '12132', '12992', '8056', '16341', '24054', '7228']\n",
      "documents in requette dict_keys(['15099', '18585', '12503', '10117', '21808', '6906', '11051', '17419', '19101', '17418', '26624', '25661', '14242', '26485', '16341', '16119', '18680', '22669', '6775', '7395', '13507', '15367', '22699', '8194', '8608', '8867', '19706', '12991', '14115', '9275', '24328', '9697', '7682', '22382', '7559', '17890', '8552', '6862', '10140', '7998', '12132', '2219', '16337', '11049', '10783', '7683', '7476', '9003', '6944', '8761', '13651', '7783', '6904', '8379', '14473', '20615', '7795', '8744', '8762', '8763', '9755', '10436', '13367', '14620', '15145', '15967', '26622', '26862', '7681', '12992', '7934', '9295', '11410', '11405', '8193', '16031', '9004', '20095', '23965', '11687', '10975', '12131', '16650', '20518', '24245', '23928', '17891', '16411', '13506', '15144', '12189', '11408', '8866', '7378', '7928'])\n",
      "sousThemes {1, 2, 3, 4, 5, 6, 7, 8}\n",
      "########################result 0.5\n",
      "in boucle 22145\n",
      "in boucle 10999\n",
      "in boucle 20262\n",
      "in boucle 20189\n",
      "in boucle 22734\n",
      "in boucle 24054\n",
      "in boucle 22466\n",
      "in boucle 22772\n",
      "in boucle 23031\n",
      "subThemes [2, 2, 1, 2, 3, 2, 2, 2, 2]\n",
      "###docs ['3726', '12707', '22145', '10999', '20262', '3185', '20189', '14035', '11408', '22734', '24054', '40061', '22466', '20124', '22772', '2197', '25543', '33459', '23031', '33464']\n",
      "documents in requette dict_keys(['35835', '35847', '38630', '11364', '10973', '19664', '20189', '16671', '8123', '10602', '11614', '7794', '9595', '10458', '11338', '12273', '13169', '20260', '9134', '9432', '9840', '18515', '20262', '23455', '8056', '8057', '10363', '22466', '9053', '16007', '24054', '7682', '9956', '12991', '10977', '8174', '22145', '22772', '11881', '23031', '25488', '21515', '23398', '31880', '37901', '7214', '13855', '15329', '22734', '23397', '23745', '8182', '9501', '37898', '37899', '17420', '23757', '10999', '737', '16034', '11300', '37297', '9006', '15970', '9136', '37249', '37250', '16919'])\n",
      "sousThemes {1, 2, 3, 4}\n",
      "########################result 0.75\n",
      "in boucle 12707\n",
      "in boucle 10999\n",
      "in boucle 37896\n",
      "in boucle 3185\n",
      "in boucle 12711\n",
      "in boucle 12991\n",
      "in boucle 16007\n",
      "in boucle 37893\n",
      "in boucle 22466\n",
      "subThemes [2, 7, 5, 7, 2, 2, 8, 5, 2]\n",
      "###docs ['9595', '3726', '12707', '3147', '10999', '37896', '3185', '12711', '12991', '21324', '16007', '21256', '22145', '11338', '9134', '2197', '37893', '20262', '22466', '37899']\n",
      "documents in requette dict_keys(['10551', '18493', '9910', '23171', '10195', '11347', '11384', '12707', '12708', '12711', '13713', '14551', '15738', '5123', '5124', '7750', '9996', '10715', '11210', '11302', '14741', '15209', '2223', '22919', '24055', '25664', '9281', '11512', '11957', '6946', '10094', '10451', '10719', '11301', '12329', '12992', '13856', '14035', '16652', '17420', '22466', '22920', '24054', '24739', '7228', '8056', '9486', '9501', '9968', '9956', '10095', '10882', '11300', '12991', '16034', '7199', '7682', '8057', '9006', '35839', '35840', '35926', '35835', '35838', '35843', '35833', '35834', '35844', '35846', '35847', '9838', '20124', '10363', '9052', '9053', '37846', '37865', '37893', '37894', '37896', '37897', '37900', '37895', '37898', '38636', '38630', '3023', '3185', '10999', '10167', '23813', '16007', '13554', '9509', '737', '8182', '37323', '37297'])\n",
      "sousThemes {1, 2, 3, 4, 5, 6, 7, 8, 9, 10, 11}\n",
      "########################result 0.36363636363636365\n",
      "in boucle 10673\n",
      "in boucle 5147\n",
      "in boucle 2107\n",
      "in boucle 9936\n",
      "in boucle 6457\n",
      "in boucle 15074\n",
      "subThemes [3, 3, 3, 3, 3, 3]\n",
      "###docs ['37228', '34139', '34135', '37267', '34140', '34136', '34129', '37293', '37196', '34133', '10673', '37309', '37337', '5147', '2107', '9936', '6457', '37167', '20912', '15074']\n",
      "documents in requette dict_keys(['13238', '20022', '1579', '16985', '17733', '18392', '20277', '9722', '10221', '10222', '10634', '13609', '1522', '17555', '17620', '19615', '20292', '20293', '20456', '21382', '22194', '22927', '23717', '24154', '24292', '24303', '2583', '2586', '2587', '2588', '2590', '2592', '2595', '2731', '4610', '7353', '9448', '9952', '2712', '2716', '2717', '2719', '2720', '2724', '4631', '20282', '21571', '9052', '9797', '9958', '2714', '9053', '19374', '20348', '20349', '22908', '26190', '23635', '23636', '24001', '24003', '24630', '26262', '2693', '2695', '2699', '2702', '2711', '10439', '18252', '23644', '23646', '23647', '23648', '23649', '23650', '1583', '17280', '19322', '19324', '19385', '19386', '20177', '20289', '21403', '22323', '22989', '22990', '23166', '24164', '24631', '24904', '24970', '24972', '3573', '3587', '3589', '3598', '3600', '22199', '11089', '13932', '15074', '26906', '9936', '10673', '16851', '19138', '2107', '2129', '2275', '2277', '2283', '5147', '6457', '8246', '12225', '13401', '18906', '3839', '6206', '6208', '6210', '6231', '8238', '8239', '8290', '18497', '6209', '8109', '1825', '1837', '8118', '22736', '4077'])\n",
      "sousThemes {1, 2, 3, 4, 5, 6, 7}\n",
      "########################result 0.14285714285714285\n"
     ]
    },
    {
     "name": "stdout",
     "output_type": "stream",
     "text": [
      "in boucle 19114\n",
      "in boucle 18049\n",
      "in boucle 19113\n",
      "in boucle 3015\n",
      "in boucle 6299\n",
      "in boucle 16392\n",
      "in boucle 16709\n",
      "in boucle 22875\n",
      "in boucle 2560\n",
      "in boucle 10469\n",
      "in boucle 18907\n",
      "in boucle 10617\n",
      "in boucle 1313\n",
      "in boucle 1580\n",
      "subThemes [4, 1, 4, 4, 3, 4, 1, 3, 9, 2, 4, 1, 1, 2]\n",
      "###docs ['19114', '18049', '19113', '3015', '6299', '16392', '14409', '16709', '22875', '39151', '2560', '10469', '18907', '10617', '1313', '16638', '27624', '1580', '18252', '27437']\n",
      "documents in requette dict_keys(['23993', '8094', '10617', '11599', '12350', '1313', '1327', '16709', '18049', '2197', '2308', '2470', '7125', '10393', '10469', '1580', '3407', '3414', '9019', '9396', '9945', '10615', '22875', '25678', '4802', '5037', '6299', '8328', '22606', '16392', '18887', '18907', '19113', '19114', '3015', '3334', '6343', '3975', '4709', '22797', '1785', '4095', '2560'])\n",
      "sousThemes {1, 2, 3, 4, 5, 6, 7, 8, 9}\n",
      "########################result 0.5555555555555556\n",
      "in boucle 39547\n",
      "subThemes [2]\n",
      "###docs ['31172', '39547', '31185', '40103', '31295', '31181', '31220', '40107', '31225', '40102', '31190', '31219', '40101', '40106', '31193', '31186', '40104', '31188', '31191', '30930']\n",
      "documents in requette dict_keys(['39237', '39238', '39240', '39246', '30431', '30433', '39024', '39025', '39032', '39036', '39040', '39057', '39058', '39257', '39258', '39260', '39285', '39027', '39029', '39037', '39038', '39039', '39051', '39052', '39053', '39059', '39060', '39244', '39245', '39250', '39251', '39253', '39089', '30426', '30456', '30462', '39092', '39093', '39094', '39097', '39287', '39307', '30457', '30458', '30459', '30461', '30494', '30496', '39086', '39087', '39088', '39098', '39102', '39111', '39263', '39286', '39291', '39294', '39297', '39299', '39300', '39312', '39313', '39314', '39318', '30449', '39074', '39296', '31879', '31882', '31883', '39536', '39540', '39545', '31870', '31884', '31887', '31897', '39524', '39526', '39527', '39532', '39534', '39543', '39546', '39547', '31838', '31830', '31832', '31835', '31837', '31839', '31841', '31844', '31846', '31847', '31850', '31851', '31852', '31854', '31855', '31857', '31863', '31868', '31869', '31836', '31848', '31849', '31864', '30361', '30353', '30358', '30360', '38978', '38981', '38997', '39007', '30245', '30246', '30243', '30413', '39023', '39235', '39236', '32648', '39646', '39657', '39675', '32666', '32670', '32672', '39640', '39641', '39642', '39643', '39645', '39651', '39656', '39658', '39667', '39678', '39649', '39654', '39660', '32656', '32646', '39151', '33370', '33378', '33362', '33374', '33379', '33393', '39131', '39133', '39158', '39159', '39162', '38928', '38929', '38930', '39190', '39191', '30658', '30618', '30696', '30919', '30971', '30975', '30976', '30977', '31111', '31112', '31113', '30642', '30641', '40061', '40022', '40023', '40050', '40078', '30488', '30608', '31116'])\n",
      "sousThemes {1, 2, 3, 4, 5, 6, 7, 8, 9, 10, 11, 12, 13, 14, 15}\n",
      "########################result 0.06666666666666667\n",
      "in boucle 35788\n",
      "in boucle 35704\n",
      "in boucle 35842\n",
      "in boucle 35656\n",
      "in boucle 35834\n",
      "in boucle 35647\n",
      "in boucle 35981\n",
      "in boucle 35728\n",
      "in boucle 35962\n",
      "in boucle 35715\n",
      "in boucle 35777\n",
      "in boucle 35639\n",
      "in boucle 35964\n",
      "in boucle 35733\n",
      "in boucle 35847\n",
      "in boucle 35789\n",
      "in boucle 35846\n",
      "in boucle 35844\n",
      "in boucle 35819\n",
      "subThemes [1, 5, 1, 3, 1, 2, 2, 2, 2, 2, 1, 1, 1, 1, 1, 1, 1, 1, 1]\n",
      "###docs ['35788', '35704', '35842', '35656', '35834', '35647', '35981', '35728', '35962', '35715', '35777', '35639', '35964', '35733', '35847', '35789', '35846', '35844', '35819', '38231']\n",
      "documents in requette dict_keys(['35843', '35964', '35639', '35733', '35983', '35777', '35819', '35842', '35838', '35788', '35789', '35847', '35833', '35844', '35846', '35817', '35834', '35683', '35981', '35715', '35728', '35963', '35980', '35647', '35962', '35884', '35885', '35646', '35644', '35656', '35816', '35682', '35704', '35706'])\n",
      "sousThemes {1, 2, 3, 4, 5}\n",
      "########################result 0.8\n"
     ]
    },
    {
     "name": "stderr",
     "output_type": "stream",
     "text": [
      "/usr/local/lib/python3.7/site-packages/sklearn/cluster/k_means_.py:968: ConvergenceWarning: Number of distinct clusters (65) found smaller than n_clusters (80). Possibly due to duplicate points in X.\n",
      "  return_n_iter=True)\n"
     ]
    },
    {
     "name": "stdout",
     "output_type": "stream",
     "text": [
      "in boucle 39847\n",
      "in boucle 39848\n",
      "in boucle 39849\n",
      "in boucle 39856\n",
      "in boucle 39852\n",
      "in boucle 39854\n",
      "in boucle 39858\n",
      "in boucle 39857\n",
      "in boucle 30788\n",
      "in boucle 40299\n",
      "in boucle 40302\n",
      "in boucle 40300\n",
      "in boucle 40305\n",
      "in boucle 40662\n",
      "in boucle 30777\n",
      "subThemes [1, 1, 1, 6, 6, 6, 6, 6, 4, 5, 5, 5, 5, 4, 3]\n",
      "###docs ['39847', '39848', '39849', '39856', '39852', '39854', '39858', '39857', '31680', '31702', '30788', '40299', '40302', '40300', '40305', '32248', '32249', '40662', '30777', '11330']\n",
      "documents in requette dict_keys(['31294', '31297', '40170', '40171', '40173', '40213', '40215', '40260', '40261', '31296', '30768', '30769', '30930', '38919', '40172', '40174', '40175', '40216', '40217', '31295', '39186', '39199', '39849', '40186', '39847', '39848', '40665', '40666', '39850', '39851', '40667', '39796', '39793', '39181', '39789', '39790', '39791', '39792', '40285', '40286', '40287', '40288', '40289', '40290', '40291', '40292', '40293', '38982', '39173', '39174', '39179', '39180', '39788', '39794', '30777', '30922', '30773', '30775', '39501', '30774', '30778', '39497', '39498', '39499', '39500', '39503', '40187', '40188', '40189', '40190', '40191', '40193', '40194', '40195', '40659', '40661', '40653', '40654', '40655', '40656', '40657', '40658', '30788', '40662', '40663', '40664', '40299', '40300', '40301', '40302', '40303', '40304', '40305', '39852', '39853', '39854', '39856', '39858', '39857'])\n",
      "sousThemes {1, 2, 3, 4, 5, 6}\n",
      "########################result 0.8333333333333334\n",
      "in boucle 23241\n",
      "in boucle 16098\n",
      "in boucle 5109\n",
      "in boucle 3158\n",
      "in boucle 17947\n",
      "in boucle 4927\n",
      "in boucle 2858\n",
      "in boucle 4931\n",
      "in boucle 19115\n",
      "in boucle 38216\n",
      "in boucle 30334\n",
      "in boucle 38219\n",
      "in boucle 4740\n",
      "in boucle 9125\n",
      "subThemes [1, 3, 1, 3, 1, 2, 3, 2, 3, 4, 7, 4, 5, 1]\n",
      "###docs ['23241', '16098', '5109', '3158', '17947', '4927', '2858', '4931', '19115', '38216', '30334', '38219', '4740', '9125', '13144', '4812', '26718', '4036', '17139', '32866']\n",
      "documents in requette dict_keys(['13594', '14752', '17947', '2192', '23241', '5109', '8023', '8785', '9125', '11230', '15194', '4927', '4931', '4900', '16800', '19115', '2858', '16098', '3158', '38216', '38217', '38218', '38219', '38221', '38222', '4740', '15051', '4723', '15655', '15656', '15657', '30334', '38898', '39169'])\n",
      "sousThemes {1, 2, 3, 4, 5, 6, 7}\n",
      "########################result 0.8571428571428571\n",
      "in boucle 31539\n",
      "in boucle 32151\n",
      "in boucle 31538\n",
      "in boucle 31702\n",
      "in boucle 31541\n",
      "in boucle 31543\n",
      "in boucle 32293\n",
      "in boucle 32349\n",
      "in boucle 32248\n",
      "in boucle 32479\n",
      "in boucle 31650\n",
      "in boucle 31653\n",
      "in boucle 31680\n",
      "subThemes [7, 3, 7, 5, 7, 7, 1, 1, 2, 5, 6, 7, 5]\n",
      "###docs ['31539', '32151', '31538', '31702', '31541', '31543', '32293', '32349', '32248', '26614', '32479', '35788', '35789', '15329', '4294', '31650', '31653', '35795', '32031', '31680']\n",
      "documents in requette dict_keys(['32293', '32297', '32349', '32351', '40150', '32248', '32249', '32250', '32151', '32152', '32153', '37880', '37884', '37885', '37883', '32479', '32480', '32481', '31680', '31702', '31650', '31653', '31536', '31538', '31537', '31539', '31541', '31543', '31540'])\n",
      "sousThemes {1, 2, 3, 4, 5, 6, 7}\n",
      "########################result 0.8571428571428571\n",
      "in boucle 22665\n",
      "in boucle 2077\n",
      "in boucle 18562\n",
      "in boucle 14024\n",
      "in boucle 16425\n",
      "in boucle 13648\n",
      "in boucle 26133\n",
      "in boucle 15687\n",
      "in boucle 14626\n",
      "in boucle 18054\n",
      "in boucle 23866\n",
      "in boucle 19384\n",
      "in boucle 1884\n",
      "in boucle 23865\n",
      "in boucle 8549\n",
      "in boucle 9413\n",
      "subThemes [1, 1, 1, 1, 1, 1, 1, 1, 1, 1, 1, 1, 2, 1, 1, 1]\n",
      "###docs ['22665', '2077', '18562', '14024', '16425', '13648', '26133', '15687', '14626', '18054', '23866', '19384', '1884', '23865', '9295', '37244', '17198', '8549', '6906', '9413']\n",
      "documents in requette dict_keys(['10479', '11297', '11355', '11356', '11358', '11659', '13648', '14024', '14431', '14626', '14627', '15687', '16425', '17422', '17933', '18054', '18279', '18562', '19384', '20497', '20560', '2077', '2182', '22665', '23865', '23866', '24745', '25462', '25463', '26133', '6460', '6581', '6658', '6720', '6849', '6939', '7030', '7263', '7306', '7421', '7495', '7823', '7909', '7910', '7978', '7979', '8343', '8410', '8411', '8548', '8549', '8604', '8697', '8865', '8890', '9413', '9421', '9566', '9671', '12143', '9956', '1884'])\n",
      "sousThemes {1, 2}\n",
      "########################result 1.0\n",
      "in boucle 39719\n",
      "in boucle 37069\n",
      "in boucle 37072\n",
      "in boucle 37101\n",
      "in boucle 37105\n",
      "in boucle 36023\n",
      "in boucle 35878\n",
      "in boucle 37050\n",
      "subThemes [1, 3, 3, 3, 3, 2, 4, 3]\n",
      "###docs ['39719', '35962', '35964', '35728', '6343', '37069', '37072', '40427', '37101', '37105', '36023', '39358', '35878', '21420', '37050', '39367', '32870', '32864', '32866', '32861']\n",
      "documents in requette dict_keys(['39719', '36023', '36043', '36071', '36072', '37050', '37068', '37069', '37070', '37072', '37101', '37105', '37106', '37158', '37159', '35621', '35878', '35880'])\n",
      "sousThemes {1, 2, 3, 4}\n",
      "########################result 1.0\n",
      "in boucle 22613\n",
      "in boucle 11794\n",
      "in boucle 8323\n",
      "in boucle 13331\n",
      "in boucle 6455\n",
      "in boucle 8665\n",
      "in boucle 13721\n",
      "in boucle 8943\n",
      "in boucle 8260\n",
      "in boucle 9667\n",
      "in boucle 23533\n",
      "in boucle 5164\n",
      "in boucle 10202\n",
      "in boucle 8152\n",
      "in boucle 9933\n",
      "in boucle 11330\n",
      "in boucle 21167\n",
      "in boucle 8876\n",
      "in boucle 11947\n",
      "in boucle 20629\n",
      "subThemes [1, 1, 1, 1, 1, 1, 1, 1, 1, 1, 1, 1, 1, 1, 1, 1, 1, 2, 2, 1]\n",
      "###docs ['22613', '11794', '8323', '13331', '6455', '8665', '13721', '8943', '8260', '9667', '23533', '5164', '10202', '8152', '9933', '11330', '21167', '8876', '11947', '20629']\n",
      "documents in requette dict_keys(['13911', '11258', '12489', '14386', '14468', '16209', '16925', '22039', '5164', '6689', '8152', '8260', '8880', '8943', '9667', '9933', '10202', '10387', '10674', '11330', '11726', '11794', '13331', '21166', '21167', '22613', '26709', '7486', '8323', '8574', '8765', '8803', '13721', '20629', '6455', '8665', '24427', '23533', '10671', '13144', '14580', '16475', '5171', '5172', '5173', '5174', '5175', '5176', '5177', '6795', '7156', '7605', '8319', '8941', '9929', '11947', '22004', '8876', '9663', '4433', '25616', '5096', '15479', '18832', '16205', '10134', '7720', '21760', '23243', '8016', '8143', '8738', '10295', '24398', '25526', '7987', '7847', '7157', '13606', '21615', '26163'])\n",
      "sousThemes {1, 2, 3, 4, 5, 6}\n",
      "########################result 0.3333333333333333\n",
      "in boucle 10583\n",
      "in boucle 7536\n",
      "in boucle 9529\n",
      "in boucle 7816\n",
      "in boucle 12559\n",
      "in boucle 30898\n",
      "in boucle 4406\n",
      "in boucle 11491\n",
      "in boucle 3513\n",
      "in boucle 10636\n",
      "in boucle 27108\n",
      "in boucle 1581\n",
      "in boucle 10195\n",
      "in boucle 30382\n",
      "in boucle 38739\n",
      "in boucle 22684\n",
      "subThemes [2, 2, 2, 5, 2, 1, 2, 2, 1, 1, 2, 1, 1, 3, 1, 4]\n",
      "###docs ['10583', '7536', '9529', '7816', '37420', '37416', '12559', '30898', '37411', '4406', '11491', '3513', '10636', '27108', '13238', '1581', '10195', '30382', '38739', '22684']\n",
      "documents in requette dict_keys(['3513', '10636', '6379', '30893', '30894', '30895', '30896', '10195', '1581', '38739', '38740', '30898', '14767', '11491', '7536', '7951', '9529', '12559', '26944', '4406', '8070', '27108', '10583', '30382', '38935', '18518', '22684', '7816'])\n",
      "sousThemes {1, 2, 3, 4, 5}\n",
      "########################result 1.0\n",
      "in boucle 6286\n",
      "in boucle 40103\n",
      "in boucle 23052\n",
      "in boucle 6287\n",
      "in boucle 31181\n",
      "in boucle 40107\n",
      "in boucle 31190\n",
      "in boucle 31193\n",
      "in boucle 31186\n",
      "in boucle 40104\n",
      "in boucle 7153\n",
      "in boucle 27043\n",
      "in boucle 37454\n",
      "in boucle 20125\n",
      "in boucle 11170\n",
      "in boucle 16576\n",
      "in boucle 7043\n",
      "subThemes [2, 1, 4, 2, 1, 1, 1, 1, 1, 1, 3, 2, 5, 4, 3, 2, 2]\n",
      "###docs ['6286', '40103', '23052', '6287', '31181', '40107', '31190', '31193', '31186', '40104', '7153', '27043', '37454', '20125', '11170', '16576', '19114', '16638', '7043', '27624']\n",
      "documents in requette dict_keys(['31181', '31182', '31184', '31185', '31186', '31187', '31188', '31190', '31191', '31192', '31193', '31219', '31220', '31225', '40101', '40102', '40103', '40104', '40106', '40107', '40108', '40109', '10728', '27043', '27053', '4225', '4558', '4561', '4569', '6286', '6287', '7035', '7043', '7913', '8338', '16571', '16573', '9154', '16576', '18282', '5087', '7153', '8028', '11170', '11729', '12635', '6896', '7986', '8316', '8940', '9926', '10505', '1591', '20125', '23052', '11855', '37454', '38055'])\n",
      "sousThemes {1, 2, 3, 4, 5}\n",
      "########################result 1.0\n"
     ]
    },
    {
     "name": "stdout",
     "output_type": "stream",
     "text": [
      "in boucle 4724\n",
      "in boucle 9630\n",
      "in boucle 16823\n",
      "in boucle 26945\n",
      "in boucle 11457\n",
      "in boucle 11582\n",
      "subThemes [1, 4, 1, 2, 1, 3]\n",
      "###docs ['10098', '4724', '9671', '13331', '11108', '32480', '7178', '9064', '9630', '16823', '10728', '7764', '16576', '26945', '12559', '11457', '24924', '13594', '11582', '12853']\n",
      "documents in requette dict_keys(['10943', '11279', '11457', '4724', '16823', '18042', '25932', '20661', '14408', '26945', '27109', '6912', '11582', '14409', '16603', '17354', '19490', '19420', '16740', '12571', '1861', '9630', '26429', '26827', '17328', '10941'])\n",
      "sousThemes {1, 2, 3, 4}\n",
      "########################result 1.0\n",
      "in boucle 7952\n",
      "in boucle 9351\n",
      "in boucle 6839\n",
      "in boucle 11341\n",
      "in boucle 26937\n",
      "in boucle 11490\n",
      "in boucle 26186\n",
      "in boucle 12853\n",
      "in boucle 11474\n",
      "in boucle 4720\n",
      "in boucle 24924\n",
      "in boucle 8069\n",
      "in boucle 24707\n",
      "in boucle 1716\n",
      "in boucle 4749\n",
      "in boucle 19304\n",
      "in boucle 26942\n",
      "in boucle 7577\n",
      "subThemes [2, 3, 2, 3, 3, 2, 1, 2, 2, 3, 2, 2, 2, 2, 3, 2, 2, 2]\n",
      "###docs ['7952', '9351', '6839', '11341', '26937', '11490', '26186', '12853', '11474', '4720', '24924', '8069', '24707', '1716', '4749', '19304', '26942', '7577', '22684', '7133']\n",
      "documents in requette dict_keys(['26186', '10097', '11490', '15402', '1716', '24707', '26942', '7532', '8069', '10098', '11108', '11474', '12853', '14558', '19304', '24924', '6839', '7577', '7755', '7764', '7815', '7952', '8394', '9778', '16740', '11341', '9351', '4720', '4749', '26937'])\n",
      "sousThemes {1, 2, 3}\n",
      "########################result 1.0\n"
     ]
    },
    {
     "data": {
      "text/plain": [
       "0.6345486236790584"
      ]
     },
     "execution_count": 26,
     "metadata": {},
     "output_type": "execute_result"
    }
   ],
   "source": [
    "EvalCRn = CRn(modelClus, queries, 20)\n",
    "EvalCRn.Evaluation_queries()"
   ]
  },
  {
   "cell_type": "code",
   "execution_count": 32,
   "metadata": {},
   "outputs": [
    {
     "name": "stdout",
     "output_type": "stream",
     "text": [
      "in boucle 37169\n",
      "in boucle 32866\n",
      "in boucle 37371\n",
      "in boucle 37353\n",
      "in boucle 37392\n",
      "in boucle 37387\n",
      "subThemes [2, 4, 1, 1, 1, 1]\n",
      "###docs ['23297', '23959', '38169', '37169', '32866', '37371', '37201', '37353', '37391', '13713', '21420', '37392', '10171', '37202', '37208', '23241', '37387', '13036', '4898', '4945']\n",
      "documents in requette dict_keys(['37353', '37368', '37371', '37374', '37375', '37376', '37386', '37387', '37392', '37369', '37393', '37394', '37169', '37194', '37204', '37191', '37192', '31337', '40500', '32763', '32866', '32870', '39625', '37303'])\n",
      "sousThemes {1, 2, 3, 4, 5}\n",
      "########################result 0.6\n",
      "in boucle 35780\n",
      "in boucle 4815\n",
      "in boucle 4759\n",
      "in boucle 14520\n",
      "in boucle 15973\n",
      "subThemes [7, 1, 8, 8, 1]\n",
      "###docs ['3407', '3414', '38216', '38217', '38218', '38219', '38221', '38222', '35780', '35884', '35885', '4815', '4759', '21221', '4723', '14520', '15973', '30334', '38898', '39169']\n",
      "documents in requette dict_keys(['4815', '15973', '16819', '36036', '36035', '30011', '19135', '4533', '28', '3147', '19211', '4900', '25966', '19259', '10999', '19194', '23108', '16993', '19198', '4531', '6501', '4895', '20357', '10657', '4896', '20356', '35678', '35783', '35782', '15330', '35780', '14520', '22777', '4759'])\n",
      "sousThemes {1, 2, 3, 4, 5, 6, 7, 8}\n",
      "########################result 0.375\n",
      "in boucle 38271\n",
      "in boucle 3090\n",
      "in boucle 3166\n",
      "in boucle 26625\n",
      "in boucle 15405\n",
      "in boucle 13183\n",
      "in boucle 30869\n",
      "in boucle 30866\n",
      "in boucle 30827\n",
      "in boucle 30828\n",
      "in boucle 30817\n",
      "in boucle 30822\n",
      "in boucle 30830\n",
      "in boucle 30865\n",
      "in boucle 16638\n",
      "in boucle 30831\n",
      "in boucle 30825\n",
      "subThemes [8, 5, 4, 2, 3, 6, 3, 3, 3, 3, 3, 3, 3, 3, 1, 3, 3]\n",
      "###docs ['38271', '23052', '3090', '3166', '26625', '15405', '19114', '13183', '30869', '30866', '30827', '30828', '3573', '30817', '30822', '30830', '30865', '16638', '30831', '30825']\n",
      "documents in requette dict_keys(['4975', '10738', '6342', '4969', '16638', '19108', '9149', '15172', '8458', '26625', '2764', '3660', '6556', '4993', '4979', '13170', '37447', '37448', '37449', '37450', '30828', '4219', '15405', '15645', '30817', '30827', '30829', '30843', '30844', '30845', '30865', '30866', '30869', '30824', '30825', '30822', '30830', '30831', '30826', '6297', '30846', '30863', '2913', '5011', '5012', '6294', '3166', '3248', '30867', '30868', '4218', '2285', '2007', '3090', '1515', '30783', '31072', '15027', '13183', '16952', '12608', '38269', '38270', '38271'])\n",
      "sousThemes {1, 2, 3, 4, 5, 6, 7, 8}\n",
      "########################result 0.875\n",
      "in boucle 37567\n",
      "in boucle 37603\n",
      "in boucle 37761\n",
      "in boucle 37786\n",
      "in boucle 37789\n",
      "in boucle 37790\n",
      "in boucle 37765\n",
      "in boucle 38160\n",
      "in boucle 37788\n",
      "in boucle 37735\n",
      "in boucle 37627\n",
      "in boucle 37568\n",
      "in boucle 37569\n",
      "in boucle 37601\n",
      "in boucle 37667\n",
      "in boucle 37668\n",
      "in boucle 37677\n",
      "in boucle 37678\n",
      "in boucle 37595\n",
      "in boucle 37602\n",
      "subThemes [1, 3, 4, 5, 5, 5, 4, 9, 5, 2, 3, 1, 1, 3, 2, 2, 2, 2, 3, 3]\n",
      "###docs ['37567', '37603', '37761', '37786', '37789', '37790', '37765', '38160', '37788', '37735', '37627', '37568', '37569', '37601', '37667', '37668', '37677', '37678', '37595', '37602']\n",
      "documents in requette dict_keys(['37535', '37567', '37568', '37569', '37576', '37588', '37589', '37591', '37646', '37657', '37660', '37661', '37663', '37665', '37667', '37668', '37675', '37677', '37678', '37710', '37712', '37713', '37714', '37715', '37717', '37718', '37719', '37720', '37721', '37722', '37723', '37730', '37731', '37735', '37737', '37739', '37595', '37596', '37597', '37599', '37601', '37602', '37603', '37604', '37606', '37609', '37610', '37618', '37626', '37627', '37631', '37632', '37633', '37636', '37642', '37743', '37744', '37746', '37747', '37748', '37749', '37751', '37752', '37753', '37755', '37761', '37765', '37786', '37788', '37789', '37790', '37772', '37773', '37774', '37803', '37836', '37515', '37516', '37530', '38007', '38006', '38014', '38013', '38012', '38160', '38137', '37798'])\n",
      "sousThemes {1, 2, 3, 4, 5, 6, 7, 8, 9, 10}\n",
      "########################result 0.6\n",
      "in boucle 21324\n",
      "in boucle 21256\n",
      "in boucle 4089\n",
      "in boucle 21212\n",
      "in boucle 21222\n",
      "in boucle 27619\n",
      "in boucle 4082\n",
      "in boucle 21221\n",
      "in boucle 27679\n",
      "subThemes [13, 13, 2, 18, 7, 7, 13, 7, 23]\n",
      "###docs ['21324', '3147', '21256', '9595', '4089', '21212', '21222', '37244', '11629', '27619', '13594', '37896', '37897', '37895', '7043', '13546', '4946', '4082', '21221', '27679']\n",
      "documents in requette dict_keys(['27651', '27652', '27644', '27645', '27621', '27649', '27650', '4070', '4084', '4085', '21223', '21213', '4087', '27508', '4089', '25396', '4048', '27436', '27688', '27681', '27682', '27684', '27673', '27680', '27441', '27357', '27665', '27672', '27615', '27442', '27670', '27671', '21221', '4049', '21207', '27618', '21209', '21222', '27351', '27619', '21218', '27506', '27637', '27641', '27642', '27643', '27689', '27690', '27437', '27691', '27638', '27635', '27639', '27640', '4078', '27434', '27627', '27435', '27514', '27515', '4077', '4052', '4050', '4064', '27624', '4083', '4067', '4074', '4095', '21256', '21319', '21327', '27320', '27322', '27353', '27354', '27630', '4082', '4080', '21321', '27511', '21324', '21225', '27509', '21252', '4054', '27510', '27664', '27662', '27663', '27686', '27440', '21054', '27324', '21212', '27439', '27685', '27687', '27503', '27676', '27677', '27679'])\n",
      "sousThemes {1, 2, 3, 4, 5, 6, 7, 8, 9, 10, 11, 12, 13, 14, 15, 16, 17, 18, 19, 20, 21, 22, 23}\n",
      "########################result 0.21739130434782608\n",
      "subThemes []\n",
      "###docs ['4283', '37353', '37392', '37387', '18651', '37191', '10081', '3185', '25661', '37194', '26443', '16475', '37192', '4565', '3545', '31295', '19031', '24202', '2470', '14580']\n",
      "documents in requette dict_keys(['37269', '37272', '37273', '37274', '37286', '37287', '37290', '37291', '37293', '37295', '37298', '37299', '37300', '37297', '37359', '37402', '37403', '37354', '37365', '37388', '37405', '37369', '37393', '37394', '37312', '37313', '37315', '37319', '37324', '37325', '37326', '37323', '37171', '37177', '37180', '37196', '37201', '37202', '37212', '37237', '37239', '37242', '37244', '37250', '37305', '37306', '37309', '37310', '37222', '37224', '37226', '37218', '37214', '37213', '37227', '37228', '37229', '37220', '37261', '37262', '37339', '37337', '37265', '37267', '37268'])\n",
      "sousThemes {1, 2, 3, 4, 5, 6, 7, 8}\n",
      "########################result 0.0\n",
      "in boucle 31499\n",
      "in boucle 18651\n",
      "in boucle 32036\n",
      "in boucle 31643\n",
      "in boucle 31516\n",
      "in boucle 32457\n",
      "in boucle 31620\n",
      "in boucle 31518\n",
      "in boucle 31616\n",
      "in boucle 31617\n",
      "in boucle 31622\n",
      "subThemes [3, 3, 1, 2, 2, 2, 2, 2, 2, 2, 2]\n",
      "###docs ['31499', '18651', '32036', '38227', '38224', '38225', '38226', '38223', '31643', '31702', '31516', '32457', '31620', '31680', '31518', '31616', '31396', '31617', '32479', '31622']\n",
      "documents in requette dict_keys(['32042', '32029', '32030', '32031', '32034', '32035', '32036', '32038', '32039', '32040', '9623', '31516', '31616', '31620', '31628', '31643', '31644', '32453', '32457', '31510', '31512', '31514', '31515', '31518', '31617', '31622', '31623', '31624', '31625', '31627', '31674', '32454', '32465', '18651', '31499', '31497'])\n",
      "sousThemes {1, 2, 3}\n",
      "########################result 1.0\n",
      "in boucle 26718\n",
      "in boucle 26720\n",
      "in boucle 26629\n",
      "in boucle 26524\n",
      "in boucle 1967\n",
      "in boucle 13547\n",
      "subThemes [1, 1, 1, 5, 2, 4]\n",
      "###docs ['26718', '26720', '26629', '26524', '16098', '4036', '3158', '5109', '2858', '1967', '13547', '3360', '3362', '1313', '4931', '4927', '17947', '1134', '23241', '1327']\n",
      "documents in requette dict_keys(['15905', '15907', '16904', '17198', '17388', '20514', '20517', '20923', '20924', '21306', '21307', '22157', '2295', '2297', '25207', '25208', '25209', '25211', '25212', '25214', '25227', '25228', '25229', '25231', '26629', '26631', '26718', '26720', '26721', '26845', '4116', '661', '662', '690', '728', '7407', '7426', '7714', '7728', '8741', '8834', '1955', '1960', '1965', '1966', '1967', '1969', '1972', '13290', '13293', '26531', '13546', '13547', '13577', '15919', '13673', '26524', '26589', '2675', '2677', '15767', '16079', '16087', '18030', '26712', '19051', '23700', '3260', '3262', '26273'])\n",
      "sousThemes {1, 2, 3, 4, 5, 6, 7, 8, 9}\n",
      "########################result 0.4444444444444444\n"
     ]
    },
    {
     "ename": "KeyboardInterrupt",
     "evalue": "",
     "output_type": "error",
     "traceback": [
      "\u001b[0;31m---------------------------------------------------------------------------\u001b[0m",
      "\u001b[0;31mKeyboardInterrupt\u001b[0m                         Traceback (most recent call last)",
      "\u001b[0;32m<ipython-input-32-6200aa0b8da5>\u001b[0m in \u001b[0;36m<module>\u001b[0;34m\u001b[0m\n\u001b[1;32m      1\u001b[0m \u001b[0mEval\u001b[0m \u001b[0;34m=\u001b[0m \u001b[0mCRn\u001b[0m\u001b[0;34m(\u001b[0m\u001b[0mModelBM25\u001b[0m\u001b[0;34m(\u001b[0m\u001b[0mindex\u001b[0m\u001b[0;34m)\u001b[0m\u001b[0;34m,\u001b[0m \u001b[0mqueries\u001b[0m\u001b[0;34m,\u001b[0m \u001b[0;36m20\u001b[0m\u001b[0;34m)\u001b[0m\u001b[0;34m\u001b[0m\u001b[0m\n\u001b[0;32m----> 2\u001b[0;31m \u001b[0mEval\u001b[0m\u001b[0;34m.\u001b[0m\u001b[0mEvaluation_queries\u001b[0m\u001b[0;34m(\u001b[0m\u001b[0;34m)\u001b[0m\u001b[0;34m\u001b[0m\u001b[0m\n\u001b[0m",
      "\u001b[0;32m~/RI/evaluation.py\u001b[0m in \u001b[0;36mEvaluation_queries\u001b[0;34m(self)\u001b[0m\n\u001b[1;32m     15\u001b[0m             \u001b[0mirlist\u001b[0m \u001b[0;34m=\u001b[0m \u001b[0mIRList\u001b[0m\u001b[0;34m(\u001b[0m\u001b[0mquery\u001b[0m\u001b[0;34m,\u001b[0m \u001b[0mself\u001b[0m\u001b[0;34m.\u001b[0m\u001b[0mmodel\u001b[0m\u001b[0;34m)\u001b[0m\u001b[0;34m\u001b[0m\u001b[0m\n\u001b[1;32m     16\u001b[0m             \u001b[0;31m#print(irlist)\u001b[0m\u001b[0;34m\u001b[0m\u001b[0;34m\u001b[0m\u001b[0m\n\u001b[0;32m---> 17\u001b[0;31m             \u001b[0mevaluation\u001b[0m \u001b[0;34m=\u001b[0m \u001b[0mself\u001b[0m\u001b[0;34m.\u001b[0m\u001b[0mevaluation\u001b[0m\u001b[0;34m(\u001b[0m\u001b[0mirlist\u001b[0m\u001b[0;34m)\u001b[0m\u001b[0;34m\u001b[0m\u001b[0m\n\u001b[0m\u001b[1;32m     18\u001b[0m             \u001b[0ml\u001b[0m\u001b[0;34m.\u001b[0m\u001b[0mappend\u001b[0m\u001b[0;34m(\u001b[0m\u001b[0mevaluation\u001b[0m\u001b[0;34m)\u001b[0m\u001b[0;34m\u001b[0m\u001b[0m\n\u001b[1;32m     19\u001b[0m \u001b[0;34m\u001b[0m\u001b[0m\n",
      "\u001b[0;32m~/RI/evaluation.py\u001b[0m in \u001b[0;36mevaluation\u001b[0;34m(self, irlist)\u001b[0m\n\u001b[1;32m    120\u001b[0m \u001b[0;34m\u001b[0m\u001b[0m\n\u001b[1;32m    121\u001b[0m         \u001b[0;31m#nbrSousThemes = irlist.getQuery().getSubthemesCount()\u001b[0m\u001b[0;34m\u001b[0m\u001b[0;34m\u001b[0m\u001b[0m\n\u001b[0;32m--> 122\u001b[0;31m         \u001b[0mdocs\u001b[0m \u001b[0;34m=\u001b[0m \u001b[0mirlist\u001b[0m\u001b[0;34m.\u001b[0m\u001b[0mgetRanking\u001b[0m\u001b[0;34m(\u001b[0m\u001b[0;34m)\u001b[0m\u001b[0;34m[\u001b[0m\u001b[0;34m:\u001b[0m \u001b[0mself\u001b[0m\u001b[0;34m.\u001b[0m\u001b[0mn\u001b[0m\u001b[0;34m]\u001b[0m\u001b[0;34m\u001b[0m\u001b[0m\n\u001b[0m\u001b[1;32m    123\u001b[0m         \u001b[0;31m#print(\"docs\", docs)\u001b[0m\u001b[0;34m\u001b[0m\u001b[0;34m\u001b[0m\u001b[0m\n\u001b[1;32m    124\u001b[0m         \u001b[0;31m#docs = [tuple_[0] for tuple_ in docsRanking_n]\u001b[0m\u001b[0;34m\u001b[0m\u001b[0;34m\u001b[0m\u001b[0m\n",
      "\u001b[0;32m~/RI/IRList.py\u001b[0m in \u001b[0;36mgetRanking\u001b[0;34m(self)\u001b[0m\n\u001b[1;32m     13\u001b[0m \u001b[0;34m\u001b[0m\u001b[0m\n\u001b[1;32m     14\u001b[0m     \u001b[0;32mdef\u001b[0m \u001b[0mgetRanking\u001b[0m\u001b[0;34m(\u001b[0m\u001b[0mself\u001b[0m\u001b[0;34m)\u001b[0m\u001b[0;34m:\u001b[0m\u001b[0;34m\u001b[0m\u001b[0m\n\u001b[0;32m---> 15\u001b[0;31m         \u001b[0mres\u001b[0m \u001b[0;34m=\u001b[0m \u001b[0mself\u001b[0m\u001b[0;34m.\u001b[0m\u001b[0mmodel\u001b[0m\u001b[0;34m.\u001b[0m\u001b[0mgetRanking\u001b[0m\u001b[0;34m(\u001b[0m\u001b[0mself\u001b[0m\u001b[0;34m.\u001b[0m\u001b[0mquery\u001b[0m\u001b[0;34m.\u001b[0m\u001b[0mget_query\u001b[0m\u001b[0;34m(\u001b[0m\u001b[0;34m)\u001b[0m\u001b[0;34m)\u001b[0m\u001b[0;34m\u001b[0m\u001b[0m\n\u001b[0m\u001b[1;32m     16\u001b[0m         \u001b[0;32mif\u001b[0m \u001b[0;34m(\u001b[0m\u001b[0mtype\u001b[0m\u001b[0;34m(\u001b[0m\u001b[0mres\u001b[0m\u001b[0;34m[\u001b[0m\u001b[0;36m0\u001b[0m\u001b[0;34m]\u001b[0m\u001b[0;34m)\u001b[0m \u001b[0;34m==\u001b[0m \u001b[0mstr\u001b[0m\u001b[0;34m)\u001b[0m\u001b[0;34m:\u001b[0m\u001b[0;34m\u001b[0m\u001b[0m\n\u001b[1;32m     17\u001b[0m             \u001b[0mdocs\u001b[0m \u001b[0;34m=\u001b[0m \u001b[0mres\u001b[0m\u001b[0;34m\u001b[0m\u001b[0m\n",
      "\u001b[0;32m~/RI/modeles.py\u001b[0m in \u001b[0;36mgetRanking\u001b[0;34m(self, query, docsNull)\u001b[0m\n\u001b[1;32m     14\u001b[0m     \u001b[0;32mdef\u001b[0m \u001b[0mgetRanking\u001b[0m\u001b[0;34m(\u001b[0m\u001b[0mself\u001b[0m\u001b[0;34m,\u001b[0m \u001b[0mquery\u001b[0m\u001b[0;34m,\u001b[0m \u001b[0mdocsNull\u001b[0m \u001b[0;34m=\u001b[0m \u001b[0;36m0\u001b[0m\u001b[0;34m)\u001b[0m\u001b[0;34m:\u001b[0m\u001b[0;34m\u001b[0m\u001b[0m\n\u001b[1;32m     15\u001b[0m \u001b[0;34m\u001b[0m\u001b[0m\n\u001b[0;32m---> 16\u001b[0;31m         \u001b[0mscores\u001b[0m \u001b[0;34m=\u001b[0m \u001b[0mself\u001b[0m\u001b[0;34m.\u001b[0m\u001b[0mgetScores\u001b[0m\u001b[0;34m(\u001b[0m\u001b[0mquery\u001b[0m\u001b[0;34m)\u001b[0m\u001b[0;34m\u001b[0m\u001b[0m\n\u001b[0m\u001b[1;32m     17\u001b[0m         \u001b[0mscores_sorted\u001b[0m \u001b[0;34m=\u001b[0m \u001b[0msorted\u001b[0m\u001b[0;34m(\u001b[0m\u001b[0mscores\u001b[0m\u001b[0;34m.\u001b[0m\u001b[0mitems\u001b[0m\u001b[0;34m(\u001b[0m\u001b[0;34m)\u001b[0m\u001b[0;34m,\u001b[0m \u001b[0mkey\u001b[0m\u001b[0;34m=\u001b[0m\u001b[0moperator\u001b[0m\u001b[0;34m.\u001b[0m\u001b[0mitemgetter\u001b[0m\u001b[0;34m(\u001b[0m\u001b[0;36m1\u001b[0m\u001b[0;34m)\u001b[0m\u001b[0;34m,\u001b[0m \u001b[0mreverse\u001b[0m\u001b[0;34m=\u001b[0m\u001b[0;32mTrue\u001b[0m\u001b[0;34m)\u001b[0m\u001b[0;34m\u001b[0m\u001b[0m\n\u001b[1;32m     18\u001b[0m         \u001b[0mdocs\u001b[0m \u001b[0;34m=\u001b[0m \u001b[0mself\u001b[0m\u001b[0;34m.\u001b[0m\u001b[0mindex\u001b[0m\u001b[0;34m.\u001b[0m\u001b[0mgetListDocs\u001b[0m\u001b[0;34m(\u001b[0m\u001b[0;34m)\u001b[0m\u001b[0;34m\u001b[0m\u001b[0m\n",
      "\u001b[0;32m~/RI/modeles.py\u001b[0m in \u001b[0;36mgetScores\u001b[0;34m(self, query)\u001b[0m\n\u001b[1;32m    131\u001b[0m                 \u001b[0mstems\u001b[0m \u001b[0;34m=\u001b[0m \u001b[0mself\u001b[0m\u001b[0;34m.\u001b[0m\u001b[0mindex\u001b[0m\u001b[0;34m.\u001b[0m\u001b[0mgetTfdForDocs\u001b[0m\u001b[0;34m(\u001b[0m\u001b[0mdoc\u001b[0m\u001b[0;34m)\u001b[0m\u001b[0;34m\u001b[0m\u001b[0m\n\u001b[1;32m    132\u001b[0m \u001b[0;34m\u001b[0m\u001b[0m\n\u001b[0;32m--> 133\u001b[0;31m                 fdq = self.propaIdf(t) * ( ((self.k1 + 1) * stems[t]) / \n\u001b[0m\u001b[1;32m    134\u001b[0m                                     (self.k1 * ((1 - self.b) +\n\u001b[1;32m    135\u001b[0m                                                 \u001b[0mself\u001b[0m\u001b[0;34m.\u001b[0m\u001b[0mb\u001b[0m \u001b[0;34m*\u001b[0m\u001b[0;34m\u001b[0m\u001b[0m\n",
      "\u001b[0;32m~/RI/modeles.py\u001b[0m in \u001b[0;36mpropaIdf\u001b[0;34m(self, stem)\u001b[0m\n\u001b[1;32m    119\u001b[0m \u001b[0;34m\u001b[0m\u001b[0m\n\u001b[1;32m    120\u001b[0m         \u001b[0mn\u001b[0m \u001b[0;34m=\u001b[0m \u001b[0mlen\u001b[0m\u001b[0;34m(\u001b[0m\u001b[0mself\u001b[0m\u001b[0;34m.\u001b[0m\u001b[0mindex\u001b[0m\u001b[0;34m.\u001b[0m\u001b[0mgetListDocs\u001b[0m\u001b[0;34m(\u001b[0m\u001b[0;34m)\u001b[0m\u001b[0;34m)\u001b[0m\u001b[0;34m\u001b[0m\u001b[0m\n\u001b[0;32m--> 121\u001b[0;31m         \u001b[0mdf\u001b[0m \u001b[0;34m=\u001b[0m \u001b[0mlen\u001b[0m\u001b[0;34m(\u001b[0m\u001b[0mself\u001b[0m\u001b[0;34m.\u001b[0m\u001b[0mindex\u001b[0m\u001b[0;34m.\u001b[0m\u001b[0mgetTsForStem\u001b[0m\u001b[0;34m(\u001b[0m\u001b[0mstem\u001b[0m\u001b[0;34m)\u001b[0m\u001b[0;34m.\u001b[0m\u001b[0mkeys\u001b[0m\u001b[0;34m(\u001b[0m\u001b[0;34m)\u001b[0m\u001b[0;34m)\u001b[0m\u001b[0;34m\u001b[0m\u001b[0m\n\u001b[0m\u001b[1;32m    122\u001b[0m         \u001b[0;32mreturn\u001b[0m \u001b[0mmax\u001b[0m\u001b[0;34m(\u001b[0m \u001b[0;36m0\u001b[0m\u001b[0;34m,\u001b[0m  \u001b[0;34m(\u001b[0m\u001b[0mnp\u001b[0m\u001b[0;34m.\u001b[0m\u001b[0mlog\u001b[0m\u001b[0;34m(\u001b[0m\u001b[0;34m(\u001b[0m\u001b[0mn\u001b[0m \u001b[0;34m-\u001b[0m \u001b[0mdf\u001b[0m \u001b[0;34m+\u001b[0m \u001b[0;36m0.5\u001b[0m\u001b[0;34m)\u001b[0m \u001b[0;34m/\u001b[0m \u001b[0mfloat\u001b[0m\u001b[0;34m(\u001b[0m\u001b[0mdf\u001b[0m \u001b[0;34m+\u001b[0m \u001b[0;36m0.5\u001b[0m\u001b[0;34m)\u001b[0m\u001b[0;34m)\u001b[0m\u001b[0;34m)\u001b[0m\u001b[0;34m)\u001b[0m\u001b[0;34m\u001b[0m\u001b[0m\n\u001b[1;32m    123\u001b[0m \u001b[0;34m\u001b[0m\u001b[0m\n",
      "\u001b[0;32m~/RI/index.py\u001b[0m in \u001b[0;36mgetTsForStem\u001b[0;34m(self, stem)\u001b[0m\n\u001b[1;32m    148\u001b[0m         \u001b[0;32mfor\u001b[0m \u001b[0mw\u001b[0m \u001b[0;32min\u001b[0m \u001b[0mrd\u001b[0m\u001b[0;34m.\u001b[0m\u001b[0msplit\u001b[0m\u001b[0;34m(\u001b[0m\u001b[0;34m';'\u001b[0m\u001b[0;34m)\u001b[0m\u001b[0;34m:\u001b[0m\u001b[0;34m\u001b[0m\u001b[0m\n\u001b[1;32m    149\u001b[0m             \u001b[0mitem\u001b[0m \u001b[0;34m=\u001b[0m \u001b[0mw\u001b[0m\u001b[0;34m.\u001b[0m\u001b[0msplit\u001b[0m\u001b[0;34m(\u001b[0m\u001b[0;34m','\u001b[0m\u001b[0;34m)\u001b[0m\u001b[0;34m\u001b[0m\u001b[0m\n\u001b[0;32m--> 150\u001b[0;31m             \u001b[0mdict_stem\u001b[0m\u001b[0;34m[\u001b[0m\u001b[0mitem\u001b[0m\u001b[0;34m[\u001b[0m\u001b[0;36m0\u001b[0m\u001b[0;34m]\u001b[0m\u001b[0;34m[\u001b[0m\u001b[0;36m2\u001b[0m\u001b[0;34m:\u001b[0m\u001b[0;34m-\u001b[0m\u001b[0;36m1\u001b[0m\u001b[0;34m]\u001b[0m\u001b[0;34m]\u001b[0m\u001b[0;34m=\u001b[0m\u001b[0mint\u001b[0m\u001b[0;34m(\u001b[0m\u001b[0mitem\u001b[0m\u001b[0;34m[\u001b[0m\u001b[0;36m1\u001b[0m\u001b[0;34m]\u001b[0m\u001b[0;34m[\u001b[0m\u001b[0;34m:\u001b[0m\u001b[0;34m-\u001b[0m\u001b[0;36m1\u001b[0m\u001b[0;34m]\u001b[0m\u001b[0;34m)\u001b[0m\u001b[0;34m\u001b[0m\u001b[0m\n\u001b[0m\u001b[1;32m    151\u001b[0m         \u001b[0;32mreturn\u001b[0m \u001b[0mdict_stem\u001b[0m\u001b[0;34m\u001b[0m\u001b[0m\n\u001b[1;32m    152\u001b[0m \u001b[0;34m\u001b[0m\u001b[0m\n",
      "\u001b[0;31mKeyboardInterrupt\u001b[0m: "
     ]
    }
   ],
   "source": [
    "Eval = CRn(ModelBM25(index), queries, 20)\n",
    "Eval.Evaluation_queries()"
   ]
  },
  {
   "cell_type": "markdown",
   "metadata": {},
   "source": [
    "les courbes :\n",
    "    \n",
    "    nbre de clusters \n",
    "    \n",
    "    nbre of docs\n",
    "    \n",
    "    regader les parametres de chaque alog"
   ]
  },
  {
   "cell_type": "code",
   "execution_count": 14,
   "metadata": {},
   "outputs": [
    {
     "data": {
      "text/plain": [
       "0"
      ]
     },
     "execution_count": 14,
     "metadata": {},
     "output_type": "execute_result"
    }
   ],
   "source": [
    "2%2"
   ]
  },
  {
   "cell_type": "code",
   "execution_count": null,
   "metadata": {},
   "outputs": [],
   "source": []
  }
 ],
 "metadata": {
  "kernelspec": {
   "display_name": "Python 3",
   "language": "python",
   "name": "python3"
  },
  "language_info": {
   "codemirror_mode": {
    "name": "ipython",
    "version": 3
   },
   "file_extension": ".py",
   "mimetype": "text/x-python",
   "name": "python",
   "nbconvert_exporter": "python",
   "pygments_lexer": "ipython3",
   "version": "3.7.0"
  }
 },
 "nbformat": 4,
 "nbformat_minor": 2
}
