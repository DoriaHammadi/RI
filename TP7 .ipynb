{
 "cells": [
  {
   "cell_type": "markdown",
   "metadata": {},
   "source": [
    "### RI TP7"
   ]
  },
  {
   "cell_type": "code",
   "execution_count": 1,
   "metadata": {},
   "outputs": [],
   "source": [
    "%load_ext autoreload\n",
    "%autoreload 2\n",
    "import numpy as np\n",
    "import time\n",
    "import Document\n",
    "import porter\n",
    "import TextRepresenter\n",
    "import Parser\n",
    "import ParserCACM\n",
    "from index import *\n",
    "from weighter import *\n",
    "from modeles import *\n",
    "from evaluation import *\n",
    "from QueryParser import *\n",
    "from RandomModel import *\n",
    "import pandas as pd\n",
    "import matplotlib.pyplot as plt"
   ]
  },
  {
   "cell_type": "code",
   "execution_count": 2,
   "metadata": {},
   "outputs": [],
   "source": [
    "index = Index(\"easyCLEF08\")"
   ]
  },
  {
   "cell_type": "code",
   "execution_count": 3,
   "metadata": {},
   "outputs": [],
   "source": [
    "index.indextion(source = 'easyCLEF08/easyCLEF08_text.txt')"
   ]
  },
  {
   "cell_type": "code",
   "execution_count": 4,
   "metadata": {},
   "outputs": [],
   "source": [
    "index.indextion_inverse(source = \"easyCLEF08/easyCLEF08_text.txt\")"
   ]
  },
  {
   "cell_type": "code",
   "execution_count": 5,
   "metadata": {},
   "outputs": [
    {
     "data": {
      "text/plain": [
       "<index.Index at 0x1123577f0>"
      ]
     },
     "execution_count": 5,
     "metadata": {},
     "output_type": "execute_result"
    }
   ],
   "source": [
    "index"
   ]
  },
  {
   "cell_type": "markdown",
   "metadata": {},
   "source": [
    "### Comparaison des Méthodes :"
   ]
  },
  {
   "cell_type": "code",
   "execution_count": 6,
   "metadata": {},
   "outputs": [],
   "source": [
    "weighter = Weighter_01(index)\n",
    "model = Vectoriel(index, weighter, True)"
   ]
  },
  {
   "cell_type": "code",
   "execution_count": 8,
   "metadata": {},
   "outputs": [],
   "source": [
    "porter = TextRepresenter.PorterStemmer()\n",
    "query_parser = QueryParser(TextRepresenter.PorterStemmer())\n",
    "query_parser.initQry('easyCLEF08/easyCLEF08_query.txt')\n",
    "query_parser.initRel('easyCLEF08/easyCLEF08_gt.txt')\n",
    "queries = []\n",
    "for i in range(0,39):\n",
    "    q =query_parser.nextQuery()\n",
    "    queries.append(q)"
   ]
  },
  {
   "cell_type": "code",
   "execution_count": 9,
   "metadata": {},
   "outputs": [],
   "source": [
    "eval =CRn(model, queries, 20)\n",
    "res = eval.rappel()\n",
    "res2 = eval.precision()\n"
   ]
  },
  {
   "cell_type": "code",
   "execution_count": 10,
   "metadata": {},
   "outputs": [
    {
     "data": {
      "text/plain": [
       "[<matplotlib.lines.Line2D at 0x11c63bb00>]"
      ]
     },
     "execution_count": 10,
     "metadata": {},
     "output_type": "execute_result"
    },
    {
     "data": {
      "image/png": "[encoded data removed]",
      "text/plain": [
       "<Figure size 432x288 with 1 Axes>"
      ]
     },
     "metadata": {
      "needs_background": "light"
     },
     "output_type": "display_data"
    }
   ],
   "source": [
    "plt.plot(res2, label = 'weighter' )"
   ]
  },
  {
   "cell_type": "code",
   "execution_count": 101,
   "metadata": {},
   "outputs": [
    {
     "data": {
      "text/plain": [
       "[<matplotlib.lines.Line2D at 0x11d76ed30>]"
      ]
     },
     "execution_count": 101,
     "metadata": {},
     "output_type": "execute_result"
    },
    {
     "data": {
      "image/png": "[encoded data removed]",
      "text/plain": [
       "<Figure size 432x288 with 1 Axes>"
      ]
     },
     "metadata": {
      "needs_background": "light"
     },
     "output_type": "display_data"
    }
   ],
   "source": [
    "plt.plot(res, label = 'weighter' )"
   ]
  },
  {
   "cell_type": "code",
   "execution_count": 11,
   "metadata": {},
   "outputs": [],
   "source": [
    "weighter = Weighter_01(index)\n",
    "model_vect = Vectoriel(index, weighter, True)\n",
    "model_l = ModelLangue(index, 0.05)\n",
    "model_o = ModelBM25(index)\n",
    "models = [model_vect, model_l, model_o]"
   ]
  },
  {
   "cell_type": "code",
   "execution_count": 135,
   "metadata": {},
   "outputs": [
    {
     "name": "stderr",
     "output_type": "stream",
     "text": [
      "/Users/macos/Desktop/master2/RI/modeles.py:86: RuntimeWarning: divide by zero encountered in log\n",
      "  scores[doc] += np.log((1 - self.lamda) * float(sum(docs.values())) / sum(lengthDocs.values()))\n",
      "/Users/macos/Desktop/master2/RI/modeles.py:88: RuntimeWarning: divide by zero encountered in log\n",
      "  x += np.log((1 - self.lamda) * float(sum(docs.values())) / sum(lengthDocs.values()))\n"
     ]
    }
   ],
   "source": [
    "pn20 = []\n",
    "crn20 = []\n",
    "for i in models:\n",
    "    \n",
    "    Eval = Pn(i, queries, 20)\n",
    "    pn20.append(Eval.Evaluation_queries())\n",
    "    Eval2 = CRn(i, queries, 20)\n",
    "    crn20.append(Eval2.Evaluation_queries())\n",
    "    "
   ]
  },
  {
   "cell_type": "code",
   "execution_count": 143,
   "metadata": {},
   "outputs": [
    {
     "data": {
      "text/html": [
       "<div>\n",
       "<style scoped>\n",
       "    .dataframe tbody tr th:only-of-type {\n",
       "        vertical-align: middle;\n",
       "    }\n",
       "\n",
       "    .dataframe tbody tr th {\n",
       "        vertical-align: top;\n",
       "    }\n",
       "\n",
       "    .dataframe thead th {\n",
       "        text-align: right;\n",
       "    }\n",
       "</style>\n",
       "<table border=\"1\" class=\"dataframe\">\n",
       "  <thead>\n",
       "    <tr style=\"text-align: right;\">\n",
       "      <th></th>\n",
       "      <th>Vectoriel</th>\n",
       "      <th>MOdelLangue</th>\n",
       "      <th>BM25</th>\n",
       "    </tr>\n",
       "  </thead>\n",
       "  <tbody>\n",
       "    <tr>\n",
       "      <th>P@20</th>\n",
       "      <td>0.229487</td>\n",
       "      <td>0.239744</td>\n",
       "      <td>0.657692</td>\n",
       "    </tr>\n",
       "    <tr>\n",
       "      <th>CR@20</th>\n",
       "      <td>0.078038</td>\n",
       "      <td>0.088071</td>\n",
       "      <td>0.167224</td>\n",
       "    </tr>\n",
       "  </tbody>\n",
       "</table>\n",
       "</div>"
      ],
      "text/plain": [
       "       Vectoriel  MOdelLangue      BM25\n",
       "P@20    0.229487     0.239744  0.657692\n",
       "CR@20   0.078038     0.088071  0.167224"
      ]
     },
     "execution_count": 143,
     "metadata": {},
     "output_type": "execute_result"
    }
   ],
   "source": [
    "result = pd.DataFrame([pn20,crn20], index = [\"P@20\", \"CR@20\"], columns = ['Vectoriel', 'MOdelLangue', 'BM25'])\n",
    "result"
   ]
  },
  {
   "cell_type": "markdown",
   "metadata": {},
   "source": [
    "# choix de l'algorithme glustering:"
   ]
  },
  {
   "cell_type": "markdown",
   "metadata": {},
   "source": [
    "https://nlp.stanford.edu/IR-book/html/htmledition/hierarchical-clustering-1.html\n",
    "    \n",
    "https://nlp.stanford.edu/IR-book/html/htmledition/flat-clustering-1.html\n",
    "    \n",
    "https://nlp.stanford.edu/IR-book/html/htmledition/model-based-clustering-1.html#sec:modelclustering\n",
    "    \n",
    "http://iajit.org/PDF/vol.5,no.3/15-191.pdf"
   ]
  },
  {
   "cell_type": "markdown",
   "metadata": {},
   "source": [
    "EM algorithm :\n",
    "    \n",
    "Avantage:\n",
    "    \n",
    "-il a une base statistique solide\n",
    "\n",
    "-il est robuste aux données bruyantes\n",
    "\n",
    "-il peut gérer une grande dimensionnalité\n",
    "\n",
    "-il converge rapidement avec une bonne initialisation"
   ]
  },
  {
   "cell_type": "code",
   "execution_count": null,
   "metadata": {},
   "outputs": [],
   "source": []
  }
 ],
 "metadata": {
  "kernelspec": {
   "display_name": "Python 3",
   "language": "python",
   "name": "python3"
  },
  "language_info": {
   "codemirror_mode": {
    "name": "ipython",
    "version": 3
   },
   "file_extension": ".py",
   "mimetype": "text/x-python",
   "name": "python",
   "nbconvert_exporter": "python",
   "pygments_lexer": "ipython3",
   "version": "3.7.0"
  }
 },
 "nbformat": 4,
 "nbformat_minor": 2
}
